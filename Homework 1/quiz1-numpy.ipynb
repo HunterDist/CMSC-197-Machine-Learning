{
 "cells": [
  {
   "cell_type": "markdown",
   "id": "b5240d74",
   "metadata": {},
   "source": [
    "# CMSC 197 (ML) - HW1\n",
    "Import numpy package to use in project"
   ]
  },
  {
   "cell_type": "code",
   "execution_count": 1,
   "id": "ea232e27",
   "metadata": {},
   "outputs": [],
   "source": [
    "import numpy as np"
   ]
  },
  {
   "cell_type": "markdown",
   "id": "899447f7",
   "metadata": {},
   "source": [
    "## Part 1: Create 2 2D arrays, y_hat and y\n",
    "Initialize y_hat with 20 linearly spaced numbers between -1 and 1"
   ]
  },
  {
   "cell_type": "code",
   "execution_count": 2,
   "id": "1620e0f5",
   "metadata": {},
   "outputs": [
    {
     "data": {
      "text/plain": [
       "array([-1.        , -0.89473684, -0.78947368, -0.68421053, -0.57894737,\n",
       "       -0.47368421, -0.36842105, -0.26315789, -0.15789474, -0.05263158,\n",
       "        0.05263158,  0.15789474,  0.26315789,  0.36842105,  0.47368421,\n",
       "        0.57894737,  0.68421053,  0.78947368,  0.89473684,  1.        ])"
      ]
     },
     "execution_count": 2,
     "metadata": {},
     "output_type": "execute_result"
    }
   ],
   "source": [
    "y_hat = np.linspace(-1, 1, num=20)\n",
    "y_hat"
   ]
  },
  {
   "cell_type": "markdown",
   "id": "b3715d9e",
   "metadata": {},
   "source": [
    "Initialize y with 20 linearly spaced numbers between 0 and 1"
   ]
  },
  {
   "cell_type": "code",
   "execution_count": 3,
   "id": "23f5e438",
   "metadata": {},
   "outputs": [
    {
     "data": {
      "text/plain": [
       "array([0.        , 0.05263158, 0.10526316, 0.15789474, 0.21052632,\n",
       "       0.26315789, 0.31578947, 0.36842105, 0.42105263, 0.47368421,\n",
       "       0.52631579, 0.57894737, 0.63157895, 0.68421053, 0.73684211,\n",
       "       0.78947368, 0.84210526, 0.89473684, 0.94736842, 1.        ])"
      ]
     },
     "execution_count": 3,
     "metadata": {},
     "output_type": "execute_result"
    }
   ],
   "source": [
    "y = np.linspace(0, 1, num=20)\n",
    "y"
   ]
  },
  {
   "cell_type": "markdown",
   "id": "fd5701e9",
   "metadata": {},
   "source": [
    "Compute for the shape and dimension of y_hat"
   ]
  },
  {
   "cell_type": "code",
   "execution_count": 4,
   "id": "39dbf6f3",
   "metadata": {},
   "outputs": [
    {
     "data": {
      "text/plain": [
       "(20,)"
      ]
     },
     "execution_count": 4,
     "metadata": {},
     "output_type": "execute_result"
    }
   ],
   "source": [
    "y_hat.shape"
   ]
  },
  {
   "cell_type": "code",
   "execution_count": 5,
   "id": "f5f8cb24",
   "metadata": {},
   "outputs": [
    {
     "data": {
      "text/plain": [
       "1"
      ]
     },
     "execution_count": 5,
     "metadata": {},
     "output_type": "execute_result"
    }
   ],
   "source": [
    "y_hat.ndim"
   ]
  },
  {
   "cell_type": "markdown",
   "id": "4c714227",
   "metadata": {},
   "source": [
    "Compute for the shape and dimension of y"
   ]
  },
  {
   "cell_type": "code",
   "execution_count": 6,
   "id": "2c50feec",
   "metadata": {},
   "outputs": [
    {
     "data": {
      "text/plain": [
       "(20,)"
      ]
     },
     "execution_count": 6,
     "metadata": {},
     "output_type": "execute_result"
    }
   ],
   "source": [
    "y.shape"
   ]
  },
  {
   "cell_type": "code",
   "execution_count": 7,
   "id": "ce6591b0",
   "metadata": {},
   "outputs": [
    {
     "data": {
      "text/plain": [
       "1"
      ]
     },
     "execution_count": 7,
     "metadata": {},
     "output_type": "execute_result"
    }
   ],
   "source": [
    "y.ndim"
   ]
  },
  {
   "cell_type": "markdown",
   "id": "1c7456b9",
   "metadata": {},
   "source": [
    "## Create individual functions for each of the loss functions with y and y_hat as parameters\n",
    "### Mean Squared Error:\n",
    "Compute for $L = \\frac{\\sum_{i=1}^{N}(\\hat{y}-y)^2}{N}$ by taking the array difference, squaring it, and taking the resulting mean."
   ]
  },
  {
   "cell_type": "code",
   "execution_count": 8,
   "id": "b8eab86d",
   "metadata": {},
   "outputs": [],
   "source": [
    "def mse():\n",
    "    result = np.mean(np.power((y_hat-y),2))\n",
    "    return result"
   ]
  },
  {
   "cell_type": "code",
   "execution_count": 9,
   "id": "3e52cb7d",
   "metadata": {},
   "outputs": [
    {
     "name": "stdout",
     "output_type": "stream",
     "text": [
      "0.3421052631578948\n"
     ]
    }
   ],
   "source": [
    "print(mse())"
   ]
  },
  {
   "cell_type": "markdown",
   "id": "d018a3d9",
   "metadata": {},
   "source": [
    "### Mean Absolute Error:\n",
    "Compute for $L = \\frac{\\sum_{i=1}^{n}|\\hat{y}-y|}{n}$ by taking the absolute value of each element of the array difference between $\\hat{y}$ and $y$, taking the resulting mean."
   ]
  },
  {
   "cell_type": "code",
   "execution_count": 10,
   "id": "5e3dd49a",
   "metadata": {},
   "outputs": [],
   "source": [
    "def mae():\n",
    "    result = np.mean(abs(y_hat-y))\n",
    "    return result"
   ]
  },
  {
   "cell_type": "code",
   "execution_count": 11,
   "id": "f60e9741",
   "metadata": {},
   "outputs": [
    {
     "name": "stdout",
     "output_type": "stream",
     "text": [
      "0.4999999999999999\n"
     ]
    }
   ],
   "source": [
    "print(mae())"
   ]
  },
  {
   "cell_type": "markdown",
   "id": "bfbbd3b5",
   "metadata": {},
   "source": [
    "### Mean Squared Logarithmic Error:\n",
    "Compute for $L = \\frac{\\sum_{i=1}^{n}(\\log(\\hat{y}+1)-\\log(y+1))^2}{n}$ by squaring each element of the array difference between $\\log(\\hat{y}+1)$ and $\\log(y+1)$, taking the resulting mean."
   ]
  },
  {
   "cell_type": "code",
   "execution_count": 12,
   "id": "f8f89f4c",
   "metadata": {},
   "outputs": [],
   "source": [
    "def msle():\n",
    "    result = np.mean(np.power((np.log1p(y_hat+1) - np.log1p(y+1)),2))\n",
    "    return result"
   ]
  },
  {
   "cell_type": "code",
   "execution_count": 13,
   "id": "054ba32e",
   "metadata": {},
   "outputs": [
    {
     "name": "stdout",
     "output_type": "stream",
     "text": [
      "0.1125199374308555\n"
     ]
    }
   ],
   "source": [
    "print(msle())"
   ]
  },
  {
   "cell_type": "markdown",
   "id": "7a43d039",
   "metadata": {},
   "source": [
    "### Mean Absolute Percentage Error:\n",
    "Compute for $L = \\frac{100\\%}{n} \\sum_{i=1}^{n}|\\frac{\\hat{y}-y}{y}|$ by solving for the absolute value of the array difference between $\\hat{y}$ and $y$, dividing the resulting array by $y$, finding its resulting mean, and multiplying it by 100%."
   ]
  },
  {
   "cell_type": "code",
   "execution_count": 14,
   "id": "af6e70f2",
   "metadata": {},
   "outputs": [],
   "source": [
    "def mape():\n",
    "    result = np.mean(abs((y_hat-y)/y_hat))*100\n",
    "    return result"
   ]
  },
  {
   "cell_type": "code",
   "execution_count": 15,
   "id": "288f3f13",
   "metadata": {},
   "outputs": [
    {
     "name": "stdout",
     "output_type": "stream",
     "text": [
      "202.65927536515775\n"
     ]
    }
   ],
   "source": [
    "print(mape())"
   ]
  },
  {
   "cell_type": "markdown",
   "id": "741da1a7",
   "metadata": {},
   "source": [
    "## Part 2: Create a 1d array M {1, 2, ...16} using the arange function"
   ]
  },
  {
   "cell_type": "code",
   "execution_count": 16,
   "id": "650fec81",
   "metadata": {},
   "outputs": [],
   "source": [
    "M = np.arange(1,17)"
   ]
  },
  {
   "cell_type": "code",
   "execution_count": 17,
   "id": "a45b57f6",
   "metadata": {},
   "outputs": [
    {
     "data": {
      "text/plain": [
       "array([ 1,  2,  3,  4,  5,  6,  7,  8,  9, 10, 11, 12, 13, 14, 15, 16])"
      ]
     },
     "execution_count": 17,
     "metadata": {},
     "output_type": "execute_result"
    }
   ],
   "source": [
    "M"
   ]
  },
  {
   "cell_type": "markdown",
   "id": "12b4449e",
   "metadata": {},
   "source": [
    "Reshape M into 4x4 array and store it to N"
   ]
  },
  {
   "cell_type": "code",
   "execution_count": 18,
   "id": "cad98de6",
   "metadata": {},
   "outputs": [],
   "source": [
    "N = np.reshape(M,(4,4))"
   ]
  },
  {
   "cell_type": "code",
   "execution_count": 19,
   "id": "b9efe427",
   "metadata": {},
   "outputs": [
    {
     "data": {
      "text/plain": [
       "array([[ 1,  2,  3,  4],\n",
       "       [ 5,  6,  7,  8],\n",
       "       [ 9, 10, 11, 12],\n",
       "       [13, 14, 15, 16]])"
      ]
     },
     "execution_count": 19,
     "metadata": {},
     "output_type": "execute_result"
    }
   ],
   "source": [
    "N"
   ]
  },
  {
   "cell_type": "markdown",
   "id": "26db11dc",
   "metadata": {},
   "source": [
    "Get the 2nd row of N"
   ]
  },
  {
   "cell_type": "code",
   "execution_count": 20,
   "id": "6796a046",
   "metadata": {},
   "outputs": [
    {
     "data": {
      "text/plain": [
       "array([5, 6, 7, 8])"
      ]
     },
     "execution_count": 20,
     "metadata": {},
     "output_type": "execute_result"
    }
   ],
   "source": [
    "N[1]"
   ]
  },
  {
   "cell_type": "markdown",
   "id": "5b673d2f",
   "metadata": {},
   "source": [
    "Get the minimum values for each column of N"
   ]
  },
  {
   "cell_type": "code",
   "execution_count": 21,
   "id": "dea7b4a0",
   "metadata": {},
   "outputs": [
    {
     "data": {
      "text/plain": [
       "array([1, 2, 3, 4])"
      ]
     },
     "execution_count": 21,
     "metadata": {},
     "output_type": "execute_result"
    }
   ],
   "source": [
    "np.min(N, axis=0)"
   ]
  },
  {
   "cell_type": "markdown",
   "id": "92c5d09c",
   "metadata": {},
   "source": [
    "Get the locations of the minimum values for each column of N"
   ]
  },
  {
   "cell_type": "code",
   "execution_count": 22,
   "id": "8a5272d2",
   "metadata": {},
   "outputs": [
    {
     "name": "stdout",
     "output_type": "stream",
     "text": [
      "(0, 0)\n",
      "(0, 1)\n",
      "(0, 2)\n",
      "(0, 3)\n"
     ]
    }
   ],
   "source": [
    "result = np.where(N == np.min(N, axis=0))\n",
    "for i in list(zip(result[0],result[1])):\n",
    "    print(i)"
   ]
  },
  {
   "cell_type": "markdown",
   "id": "c86b7e03",
   "metadata": {},
   "source": [
    "Get the average of the whole matrix"
   ]
  },
  {
   "cell_type": "code",
   "execution_count": 23,
   "id": "e1d33587",
   "metadata": {},
   "outputs": [
    {
     "data": {
      "text/plain": [
       "8.5"
      ]
     },
     "execution_count": 23,
     "metadata": {},
     "output_type": "execute_result"
    }
   ],
   "source": [
    "np.mean(N)"
   ]
  },
  {
   "cell_type": "markdown",
   "id": "5f5c830a",
   "metadata": {},
   "source": [
    "Create a vector V with 4 elements, each element is 1"
   ]
  },
  {
   "cell_type": "code",
   "execution_count": 24,
   "id": "689b0439",
   "metadata": {},
   "outputs": [],
   "source": [
    "V = np.ones(4)"
   ]
  },
  {
   "cell_type": "code",
   "execution_count": 25,
   "id": "a99ded43",
   "metadata": {},
   "outputs": [
    {
     "data": {
      "text/plain": [
       "array([1., 1., 1., 1.])"
      ]
     },
     "execution_count": 25,
     "metadata": {},
     "output_type": "execute_result"
    }
   ],
   "source": [
    "V"
   ]
  },
  {
   "cell_type": "markdown",
   "id": "9f7a1d4a",
   "metadata": {},
   "source": [
    "Take the dot product of N and V"
   ]
  },
  {
   "cell_type": "code",
   "execution_count": 26,
   "id": "b855456e",
   "metadata": {},
   "outputs": [
    {
     "data": {
      "text/plain": [
       "array([10., 26., 42., 58.])"
      ]
     },
     "execution_count": 26,
     "metadata": {},
     "output_type": "execute_result"
    }
   ],
   "source": [
    "np.dot(N, V)"
   ]
  },
  {
   "cell_type": "markdown",
   "id": "3058dbd0",
   "metadata": {},
   "source": []
  }
 ],
 "metadata": {
  "kernelspec": {
   "display_name": "Python 3 (ipykernel)",
   "language": "python",
   "name": "python3"
  },
  "language_info": {
   "codemirror_mode": {
    "name": "ipython",
    "version": 3
   },
   "file_extension": ".py",
   "mimetype": "text/x-python",
   "name": "python",
   "nbconvert_exporter": "python",
   "pygments_lexer": "ipython3",
   "version": "3.9.12"
  }
 },
 "nbformat": 4,
 "nbformat_minor": 5
}
