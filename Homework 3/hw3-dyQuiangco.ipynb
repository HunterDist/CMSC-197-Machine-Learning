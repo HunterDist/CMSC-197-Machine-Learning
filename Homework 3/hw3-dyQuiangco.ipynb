{
 "cells": [
  {
   "cell_type": "markdown",
   "id": "6293ca3d",
   "metadata": {},
   "source": [
    "# Import numpy, pandas, matpotlib, and sklearn libraries"
   ]
  },
  {
   "cell_type": "code",
   "execution_count": 1,
   "id": "baf49687",
   "metadata": {},
   "outputs": [],
   "source": [
    "import numpy as np\n",
    "import pandas as pd\n",
    "import matplotlib.pyplot as plt\n",
    "from sklearn.preprocessing import scale\n",
    "from sklearn.model_selection import train_test_split\n",
    "from sklearn.linear_model import LinearRegression\n",
    "from sklearn.metrics import r2_score, mean_absolute_error, mean_squared_error"
   ]
  },
  {
   "cell_type": "markdown",
   "id": "fcc429ab",
   "metadata": {},
   "source": [
    "# Load Advertising.csv using pandas"
   ]
  },
  {
   "cell_type": "code",
   "execution_count": 2,
   "id": "e899296f",
   "metadata": {},
   "outputs": [],
   "source": [
    "df = pd.read_csv(\"data/Advertising.csv\", index_col = 0)"
   ]
  },
  {
   "cell_type": "code",
   "execution_count": 3,
   "id": "d849201c",
   "metadata": {},
   "outputs": [
    {
     "data": {
      "text/html": [
       "<div>\n",
       "<style scoped>\n",
       "    .dataframe tbody tr th:only-of-type {\n",
       "        vertical-align: middle;\n",
       "    }\n",
       "\n",
       "    .dataframe tbody tr th {\n",
       "        vertical-align: top;\n",
       "    }\n",
       "\n",
       "    .dataframe thead th {\n",
       "        text-align: right;\n",
       "    }\n",
       "</style>\n",
       "<table border=\"1\" class=\"dataframe\">\n",
       "  <thead>\n",
       "    <tr style=\"text-align: right;\">\n",
       "      <th></th>\n",
       "      <th>TV</th>\n",
       "      <th>Radio</th>\n",
       "      <th>Newspaper</th>\n",
       "      <th>Sales</th>\n",
       "    </tr>\n",
       "  </thead>\n",
       "  <tbody>\n",
       "    <tr>\n",
       "      <th>1</th>\n",
       "      <td>230.1</td>\n",
       "      <td>37.8</td>\n",
       "      <td>69.2</td>\n",
       "      <td>22.1</td>\n",
       "    </tr>\n",
       "    <tr>\n",
       "      <th>2</th>\n",
       "      <td>44.5</td>\n",
       "      <td>39.3</td>\n",
       "      <td>45.1</td>\n",
       "      <td>10.4</td>\n",
       "    </tr>\n",
       "    <tr>\n",
       "      <th>3</th>\n",
       "      <td>17.2</td>\n",
       "      <td>45.9</td>\n",
       "      <td>69.3</td>\n",
       "      <td>9.3</td>\n",
       "    </tr>\n",
       "    <tr>\n",
       "      <th>4</th>\n",
       "      <td>151.5</td>\n",
       "      <td>41.3</td>\n",
       "      <td>58.5</td>\n",
       "      <td>18.5</td>\n",
       "    </tr>\n",
       "    <tr>\n",
       "      <th>5</th>\n",
       "      <td>180.8</td>\n",
       "      <td>10.8</td>\n",
       "      <td>58.4</td>\n",
       "      <td>12.9</td>\n",
       "    </tr>\n",
       "  </tbody>\n",
       "</table>\n",
       "</div>"
      ],
      "text/plain": [
       "      TV  Radio  Newspaper  Sales\n",
       "1  230.1   37.8       69.2   22.1\n",
       "2   44.5   39.3       45.1   10.4\n",
       "3   17.2   45.9       69.3    9.3\n",
       "4  151.5   41.3       58.5   18.5\n",
       "5  180.8   10.8       58.4   12.9"
      ]
     },
     "execution_count": 3,
     "metadata": {},
     "output_type": "execute_result"
    }
   ],
   "source": [
    "df.head()"
   ]
  },
  {
   "cell_type": "code",
   "execution_count": 4,
   "id": "bd149efb",
   "metadata": {
    "scrolled": true
   },
   "outputs": [
    {
     "data": {
      "text/html": [
       "<div>\n",
       "<style scoped>\n",
       "    .dataframe tbody tr th:only-of-type {\n",
       "        vertical-align: middle;\n",
       "    }\n",
       "\n",
       "    .dataframe tbody tr th {\n",
       "        vertical-align: top;\n",
       "    }\n",
       "\n",
       "    .dataframe thead th {\n",
       "        text-align: right;\n",
       "    }\n",
       "</style>\n",
       "<table border=\"1\" class=\"dataframe\">\n",
       "  <thead>\n",
       "    <tr style=\"text-align: right;\">\n",
       "      <th></th>\n",
       "      <th>TV</th>\n",
       "      <th>Radio</th>\n",
       "      <th>Newspaper</th>\n",
       "    </tr>\n",
       "  </thead>\n",
       "  <tbody>\n",
       "    <tr>\n",
       "      <th>1</th>\n",
       "      <td>230.1</td>\n",
       "      <td>37.8</td>\n",
       "      <td>69.2</td>\n",
       "    </tr>\n",
       "    <tr>\n",
       "      <th>2</th>\n",
       "      <td>44.5</td>\n",
       "      <td>39.3</td>\n",
       "      <td>45.1</td>\n",
       "    </tr>\n",
       "    <tr>\n",
       "      <th>3</th>\n",
       "      <td>17.2</td>\n",
       "      <td>45.9</td>\n",
       "      <td>69.3</td>\n",
       "    </tr>\n",
       "    <tr>\n",
       "      <th>4</th>\n",
       "      <td>151.5</td>\n",
       "      <td>41.3</td>\n",
       "      <td>58.5</td>\n",
       "    </tr>\n",
       "    <tr>\n",
       "      <th>5</th>\n",
       "      <td>180.8</td>\n",
       "      <td>10.8</td>\n",
       "      <td>58.4</td>\n",
       "    </tr>\n",
       "  </tbody>\n",
       "</table>\n",
       "</div>"
      ],
      "text/plain": [
       "      TV  Radio  Newspaper\n",
       "1  230.1   37.8       69.2\n",
       "2   44.5   39.3       45.1\n",
       "3   17.2   45.9       69.3\n",
       "4  151.5   41.3       58.5\n",
       "5  180.8   10.8       58.4"
      ]
     },
     "execution_count": 4,
     "metadata": {},
     "output_type": "execute_result"
    }
   ],
   "source": [
    "x = df.drop(\"Sales\", axis = 1)\n",
    "y = df[\"Sales\"]\n",
    "x.head()"
   ]
  },
  {
   "cell_type": "markdown",
   "id": "227c90b1",
   "metadata": {},
   "source": [
    "# Standardize each column of the dataset"
   ]
  },
  {
   "cell_type": "code",
   "execution_count": 5,
   "id": "ddb60178",
   "metadata": {},
   "outputs": [
    {
     "data": {
      "text/html": [
       "<div>\n",
       "<style scoped>\n",
       "    .dataframe tbody tr th:only-of-type {\n",
       "        vertical-align: middle;\n",
       "    }\n",
       "\n",
       "    .dataframe tbody tr th {\n",
       "        vertical-align: top;\n",
       "    }\n",
       "\n",
       "    .dataframe thead th {\n",
       "        text-align: right;\n",
       "    }\n",
       "</style>\n",
       "<table border=\"1\" class=\"dataframe\">\n",
       "  <thead>\n",
       "    <tr style=\"text-align: right;\">\n",
       "      <th></th>\n",
       "      <th>bias</th>\n",
       "      <th>TV</th>\n",
       "      <th>Radio</th>\n",
       "      <th>Newspaper</th>\n",
       "    </tr>\n",
       "  </thead>\n",
       "  <tbody>\n",
       "    <tr>\n",
       "      <th>0</th>\n",
       "      <td>1</td>\n",
       "      <td>0.969852</td>\n",
       "      <td>0.981522</td>\n",
       "      <td>1.778945</td>\n",
       "    </tr>\n",
       "    <tr>\n",
       "      <th>1</th>\n",
       "      <td>1</td>\n",
       "      <td>-1.197376</td>\n",
       "      <td>1.082808</td>\n",
       "      <td>0.669579</td>\n",
       "    </tr>\n",
       "    <tr>\n",
       "      <th>2</th>\n",
       "      <td>1</td>\n",
       "      <td>-1.516155</td>\n",
       "      <td>1.528463</td>\n",
       "      <td>1.783549</td>\n",
       "    </tr>\n",
       "    <tr>\n",
       "      <th>3</th>\n",
       "      <td>1</td>\n",
       "      <td>0.052050</td>\n",
       "      <td>1.217855</td>\n",
       "      <td>1.286405</td>\n",
       "    </tr>\n",
       "    <tr>\n",
       "      <th>4</th>\n",
       "      <td>1</td>\n",
       "      <td>0.394182</td>\n",
       "      <td>-0.841614</td>\n",
       "      <td>1.281802</td>\n",
       "    </tr>\n",
       "    <tr>\n",
       "      <th>...</th>\n",
       "      <td>...</td>\n",
       "      <td>...</td>\n",
       "      <td>...</td>\n",
       "      <td>...</td>\n",
       "    </tr>\n",
       "    <tr>\n",
       "      <th>195</th>\n",
       "      <td>1</td>\n",
       "      <td>-1.270941</td>\n",
       "      <td>-1.321031</td>\n",
       "      <td>-0.771217</td>\n",
       "    </tr>\n",
       "    <tr>\n",
       "      <th>196</th>\n",
       "      <td>1</td>\n",
       "      <td>-0.617035</td>\n",
       "      <td>-1.240003</td>\n",
       "      <td>-1.033598</td>\n",
       "    </tr>\n",
       "    <tr>\n",
       "      <th>197</th>\n",
       "      <td>1</td>\n",
       "      <td>0.349810</td>\n",
       "      <td>-0.942899</td>\n",
       "      <td>-1.111852</td>\n",
       "    </tr>\n",
       "    <tr>\n",
       "      <th>198</th>\n",
       "      <td>1</td>\n",
       "      <td>1.594565</td>\n",
       "      <td>1.265121</td>\n",
       "      <td>1.640850</td>\n",
       "    </tr>\n",
       "    <tr>\n",
       "      <th>199</th>\n",
       "      <td>1</td>\n",
       "      <td>0.993206</td>\n",
       "      <td>-0.990165</td>\n",
       "      <td>-1.005979</td>\n",
       "    </tr>\n",
       "  </tbody>\n",
       "</table>\n",
       "<p>200 rows × 4 columns</p>\n",
       "</div>"
      ],
      "text/plain": [
       "     bias        TV     Radio  Newspaper\n",
       "0       1  0.969852  0.981522   1.778945\n",
       "1       1 -1.197376  1.082808   0.669579\n",
       "2       1 -1.516155  1.528463   1.783549\n",
       "3       1  0.052050  1.217855   1.286405\n",
       "4       1  0.394182 -0.841614   1.281802\n",
       "..    ...       ...       ...        ...\n",
       "195     1 -1.270941 -1.321031  -0.771217\n",
       "196     1 -0.617035 -1.240003  -1.033598\n",
       "197     1  0.349810 -0.942899  -1.111852\n",
       "198     1  1.594565  1.265121   1.640850\n",
       "199     1  0.993206 -0.990165  -1.005979\n",
       "\n",
       "[200 rows x 4 columns]"
      ]
     },
     "execution_count": 5,
     "metadata": {},
     "output_type": "execute_result"
    }
   ],
   "source": [
    "scaled = pd.DataFrame(scale(x), columns=[\"TV\",\"Radio\",\"Newspaper\"])\n",
    "scaled.insert(0, 'bias', [1]*len(scaled))\n",
    "scaled"
   ]
  },
  {
   "cell_type": "markdown",
   "id": "c127bfc1",
   "metadata": {},
   "source": [
    "# Divide the dataset into training and testing, with 0.85 and 0.15 ratio, respectively."
   ]
  },
  {
   "cell_type": "code",
   "execution_count": 6,
   "id": "737c1c89",
   "metadata": {},
   "outputs": [],
   "source": [
    "x_train, x_test, y_train, y_test = train_test_split(scaled, y, train_size=0.85, test_size=0.15, random_state = 42)"
   ]
  },
  {
   "cell_type": "code",
   "execution_count": 7,
   "id": "7823aaa4",
   "metadata": {},
   "outputs": [
    {
     "name": "stdout",
     "output_type": "stream",
     "text": [
      "x_train size: (170, 4)\n",
      "y_train size: (170,)\n",
      "\n",
      "x_test size: (30, 4)\n",
      "y_test size: (30,)\n"
     ]
    }
   ],
   "source": [
    "print(\"x_train size:\", x_train.shape)\n",
    "print(\"y_train size:\", y_train.shape)\n",
    "print(\"\\nx_test size:\", x_test.shape)\n",
    "print(\"y_test size:\", y_test.shape)"
   ]
  },
  {
   "cell_type": "markdown",
   "id": "c62ddfef",
   "metadata": {},
   "source": [
    "# Fit the model on the training set"
   ]
  },
  {
   "cell_type": "code",
   "execution_count": 8,
   "id": "77fe6527",
   "metadata": {},
   "outputs": [],
   "source": [
    "def initialize_weights():\n",
    "    np.random.seed(2)\n",
    "    weights = np.random.uniform(low=0.0, high=1.0, size=4)\n",
    "    return weights"
   ]
  },
  {
   "cell_type": "markdown",
   "id": "20eff913",
   "metadata": {},
   "source": [
    "Test `initialize_weights()`"
   ]
  },
  {
   "cell_type": "code",
   "execution_count": 9,
   "id": "57eb1c5f",
   "metadata": {},
   "outputs": [
    {
     "data": {
      "text/plain": [
       "array([0.4359949 , 0.02592623, 0.54966248, 0.43532239])"
      ]
     },
     "execution_count": 9,
     "metadata": {},
     "output_type": "execute_result"
    }
   ],
   "source": [
    "init_w = initialize_weights()\n",
    "init_w"
   ]
  },
  {
   "cell_type": "code",
   "execution_count": 10,
   "id": "0e45bb95",
   "metadata": {},
   "outputs": [],
   "source": [
    "def predict(predictors, weights):\n",
    "    y_hat = np.dot(predictors, weights)\n",
    "    return y_hat"
   ]
  },
  {
   "cell_type": "markdown",
   "id": "f1142000",
   "metadata": {},
   "source": [
    "Test `predict(predictors, weights)`"
   ]
  },
  {
   "cell_type": "code",
   "execution_count": 11,
   "id": "74019632",
   "metadata": {},
   "outputs": [
    {
     "data": {
      "text/plain": [
       "array([-5.02423053e-01,  6.42887652e-02,  2.01179507e+00,  2.33427757e+00,\n",
       "        2.58080929e-01,  3.67137873e-01,  8.45134434e-01,  1.26756730e+00,\n",
       "       -3.94946771e-01, -6.01719221e-01, -3.00431606e-01, -5.57226297e-01,\n",
       "        6.23151167e-01, -2.31009946e-01, -6.14736444e-01, -6.58804965e-01,\n",
       "        3.48564626e-01,  2.30155072e-01, -1.51676072e-01,  2.80155411e-01,\n",
       "        1.36776891e+00, -5.13235661e-01,  2.23623702e+00,  1.37586911e+00,\n",
       "       -7.34835701e-01, -2.06288090e-01, -1.72551691e-01,  1.59942557e+00,\n",
       "        8.37663832e-03, -7.76277217e-01, -4.76492853e-01,  1.92016184e-01,\n",
       "        3.69246560e-01,  1.54626706e+00, -6.73722695e-01, -3.76510959e-02,\n",
       "        6.88140447e-02, -1.60569618e-01, -6.75347753e-01,  5.57371898e-01,\n",
       "       -6.25389737e-01, -8.75594037e-01,  1.57581024e-01,  9.84498577e-01,\n",
       "        1.91043774e+00, -4.17893439e-02,  2.98993516e-01,  6.35168330e-01,\n",
       "        1.40620823e-01,  8.64215932e-01,  2.01324431e+00,  2.94581951e-01,\n",
       "        2.57471261e-02,  4.03532964e-01, -5.40296868e-01,  9.73719751e-01,\n",
       "        1.25834505e+00,  7.22408925e-01,  5.69386423e-01,  1.67580927e+00,\n",
       "        5.03816358e-01,  1.80321189e+00,  2.37468526e+00, -2.55507412e-01,\n",
       "       -4.83129644e-02,  4.02622403e-01,  3.31898475e-01,  6.21464429e-01,\n",
       "        6.71668813e-02,  8.79020840e-01,  5.41608176e-01, -3.97970221e-01,\n",
       "        9.74213679e-01, -7.90888434e-01,  1.01700454e-01,  2.73703013e-01,\n",
       "       -3.64014475e-01,  1.10556679e-01, -4.11372051e-01, -5.66264938e-01,\n",
       "        7.49555340e-01,  1.77506039e+00,  1.88702451e+00,  1.19655985e+00,\n",
       "        8.87266606e-01,  4.85701967e-01,  1.12310645e+00,  7.44903895e-01,\n",
       "        4.79392532e-01,  4.55798439e-01,  4.37965401e-01, -5.52427313e-01,\n",
       "       -5.38231790e-01,  1.57066070e+00, -4.83982425e-01,  1.37145254e-01,\n",
       "        3.84318777e-01,  1.69575301e+00, -1.20033541e-01,  1.02527426e+00,\n",
       "        1.01112609e+00,  8.99392298e-01, -3.13681479e-01, -5.38778514e-02,\n",
       "       -1.80804514e-01,  3.00864043e-01,  1.66675444e+00,  1.86194391e+00,\n",
       "        1.86204163e+00,  1.12941480e+00, -7.74000272e-01, -4.40180396e-01,\n",
       "        1.04448391e+00,  1.07694561e-01,  3.76737230e-01, -8.55009995e-01,\n",
       "       -8.79344270e-02,  4.20658434e-01, -3.58621972e-01,  1.30147974e+00,\n",
       "        5.18633797e-01, -2.68599583e-01,  1.75310426e+00, -9.83645355e-01,\n",
       "       -6.28358765e-01,  2.60814507e-01,  6.91111275e-01, -3.46462676e-02,\n",
       "        1.58887982e+00,  5.35430970e-01,  1.65214705e+00,  1.67412440e+00,\n",
       "       -4.39874078e-01,  2.03756723e+00,  2.13795569e-01,  3.82831519e-01,\n",
       "       -5.80830056e-01, -2.15347168e-01, -7.11533939e-01,  1.57595814e+00,\n",
       "        5.70902257e-01,  1.35977811e+00, -3.52163245e-01,  2.25670112e-03,\n",
       "        2.54964763e-01, -2.93627894e-01,  2.42862807e-01,  1.68764197e+00,\n",
       "       -5.03689737e-01,  5.97243455e-01,  1.29161290e+00,  1.32251713e+00,\n",
       "        2.99671048e-01,  5.60079629e-01,  2.40052887e-01, -3.02718253e-02,\n",
       "        1.42417853e+00,  1.64870588e-03,  1.72260393e+00,  1.55914558e-01,\n",
       "        7.36810602e-01, -5.20437119e-01,  1.08004404e+00, -4.07602580e-01,\n",
       "        1.14984168e-01, -7.32453773e-02,  1.12042754e+00,  1.40731670e+00,\n",
       "       -3.10263680e-01, -1.95711471e-01])"
      ]
     },
     "execution_count": 11,
     "metadata": {},
     "output_type": "execute_result"
    }
   ],
   "source": [
    "y_hat = predict(x_train, init_w)\n",
    "y_hat"
   ]
  },
  {
   "cell_type": "code",
   "execution_count": 12,
   "id": "9f7075d5",
   "metadata": {},
   "outputs": [],
   "source": [
    "def compute_cost(targets, predictions):\n",
    "    m = len(targets)\n",
    "    error = (predictions - targets)**2\n",
    "    cost = sum(error)/(2*m)\n",
    "    return cost"
   ]
  },
  {
   "cell_type": "markdown",
   "id": "f088846c",
   "metadata": {},
   "source": [
    "Test `compute_cost(targets, predictions)`"
   ]
  },
  {
   "cell_type": "code",
   "execution_count": 13,
   "id": "cafb63ac",
   "metadata": {},
   "outputs": [
    {
     "data": {
      "text/plain": [
       "104.84929975967793"
      ]
     },
     "execution_count": 13,
     "metadata": {},
     "output_type": "execute_result"
    }
   ],
   "source": [
    "cost = compute_cost(y_train, y_hat)\n",
    "cost"
   ]
  },
  {
   "cell_type": "code",
   "execution_count": 14,
   "id": "809c450d",
   "metadata": {},
   "outputs": [],
   "source": [
    "def compute_gradient(predictors, targets, predictions, lr):\n",
    "    m = len(targets)\n",
    "    error = predictions - targets\n",
    "    w = lr*(np.dot(error, predictors))/m\n",
    "    return w"
   ]
  },
  {
   "cell_type": "markdown",
   "id": "b0095c5f",
   "metadata": {},
   "source": [
    "Test `compute_gradients(predictors, targets, predictions, lr)`"
   ]
  },
  {
   "cell_type": "code",
   "execution_count": 15,
   "id": "88a3eaba",
   "metadata": {},
   "outputs": [
    {
     "data": {
      "text/plain": [
       "array([-10.95060861,  -3.43580198,  -1.65688273,  -0.19438347])"
      ]
     },
     "execution_count": 15,
     "metadata": {},
     "output_type": "execute_result"
    }
   ],
   "source": [
    "gradient = compute_gradient(x_train, y_train, y_hat, 0.8)\n",
    "gradient"
   ]
  },
  {
   "cell_type": "code",
   "execution_count": 16,
   "id": "229fed68",
   "metadata": {},
   "outputs": [],
   "source": [
    "def update_weights(weights, gradients):\n",
    "    weights -= gradients\n",
    "    return weights"
   ]
  },
  {
   "cell_type": "markdown",
   "id": "08081493",
   "metadata": {},
   "source": [
    "Test `update_weights(weights, gradients)`"
   ]
  },
  {
   "cell_type": "code",
   "execution_count": 17,
   "id": "6df0aacc",
   "metadata": {},
   "outputs": [
    {
     "data": {
      "text/plain": [
       "array([11.38660352,  3.46172821,  2.20654521,  0.62970587])"
      ]
     },
     "execution_count": 17,
     "metadata": {},
     "output_type": "execute_result"
    }
   ],
   "source": [
    "updated = update_weights(init_w, gradient)\n",
    "updated"
   ]
  },
  {
   "cell_type": "code",
   "execution_count": 18,
   "id": "9f52e91a",
   "metadata": {},
   "outputs": [],
   "source": [
    "def grad_descent(features, targets, iterations, lr):\n",
    "    weights = initialize_weights()\n",
    "    costs = []\n",
    "    for _ in range(iterations):\n",
    "        prediction = predict(features, weights)\n",
    "        cost = compute_cost(targets, prediction)\n",
    "        costs.append(cost)\n",
    "        gradient = compute_gradient(features, targets, prediction, lr)\n",
    "        weights = update_weights(weights, gradient)\n",
    "    return weights, costs"
   ]
  },
  {
   "cell_type": "markdown",
   "id": "7b97a58f",
   "metadata": {},
   "source": [
    "Test `grad_descent(features, targets, iterations, lr)`"
   ]
  },
  {
   "cell_type": "markdown",
   "id": "058e4fc9",
   "metadata": {},
   "source": [
    "Smaller learning rate value ($\\alpha$) creates smaller steps and makes a more refined curve but is slower."
   ]
  },
  {
   "cell_type": "code",
   "execution_count": 19,
   "id": "bed70f20",
   "metadata": {
    "scrolled": true
   },
   "outputs": [
    {
     "data": {
      "text/plain": [
       "array([14.02424588,  3.83782736,  2.78824111,  0.01961474])"
      ]
     },
     "execution_count": 19,
     "metadata": {},
     "output_type": "execute_result"
    }
   ],
   "source": [
    "w, costs = grad_descent(x_train, y_train, 1000, 0.01)\n",
    "w"
   ]
  },
  {
   "cell_type": "code",
   "execution_count": 20,
   "id": "e654d851",
   "metadata": {},
   "outputs": [],
   "source": [
    "def plot_costs(costs):\n",
    "    plt.plot(costs)"
   ]
  },
  {
   "cell_type": "markdown",
   "id": "9b51a616",
   "metadata": {},
   "source": [
    "Test `plot_costs(costs)`"
   ]
  },
  {
   "cell_type": "code",
   "execution_count": 21,
   "id": "759b51e9",
   "metadata": {},
   "outputs": [
    {
     "data": {
      "image/png": "[encoded data removed]",
      "text/plain": [
       "<Figure size 432x288 with 1 Axes>"
      ]
     },
     "metadata": {
      "needs_background": "light"
     },
     "output_type": "display_data"
    }
   ],
   "source": [
    "plot_costs(costs)"
   ]
  },
  {
   "cell_type": "markdown",
   "id": "3e73ae35",
   "metadata": {},
   "source": [
    "# Predict the quantitative response y on the train set. (Standardized Data)"
   ]
  },
  {
   "cell_type": "code",
   "execution_count": 22,
   "id": "2b41d1fc",
   "metadata": {},
   "outputs": [
    {
     "data": {
      "text/plain": [
       "9      12.489614\n",
       "18     10.004377\n",
       "55     21.295443\n",
       "75     12.092719\n",
       "150    18.256793\n",
       "         ...    \n",
       "106     6.245314\n",
       "14     18.409346\n",
       "92     19.143516\n",
       "179    12.346943\n",
       "102    17.504868\n",
       "Length: 170, dtype: float64"
      ]
     },
     "execution_count": 22,
     "metadata": {},
     "output_type": "execute_result"
    }
   ],
   "source": [
    "w, costs = grad_descent(x_train, y_train, 1000, 0.01)\n",
    "prediction_Ys_train = (x_train).dot(w)\n",
    "prediction_Ys_train"
   ]
  },
  {
   "cell_type": "markdown",
   "id": "b3cfa169",
   "metadata": {},
   "source": [
    "# Predict the quantitative response y on the test set. (Standardized Data)"
   ]
  },
  {
   "cell_type": "code",
   "execution_count": 23,
   "id": "7dae3600",
   "metadata": {},
   "outputs": [
    {
     "data": {
      "text/plain": [
       "95     16.270577\n",
       "15     20.873025\n",
       "30     22.468468\n",
       "158     9.493349\n",
       "128    22.943598\n",
       "115    12.338435\n",
       "69     21.566197\n",
       "170     7.139825\n",
       "174    14.604146\n",
       "45     15.451323\n",
       "66      8.739702\n",
       "182     6.256865\n",
       "165    14.440655\n",
       "78      8.281513\n",
       "186     9.935608\n",
       "177    12.469267\n",
       "56      7.698560\n",
       "152    16.950157\n",
       "82      9.882673\n",
       "68     19.809353\n",
       "124    19.584005\n",
       "16     11.579779\n",
       "148    11.839913\n",
       "93     21.478423\n",
       "65      7.893150\n",
       "60      5.532040\n",
       "84     21.158559\n",
       "67     12.373276\n",
       "125     9.015543\n",
       "132     8.023006\n",
       "dtype: float64"
      ]
     },
     "execution_count": 23,
     "metadata": {},
     "output_type": "execute_result"
    }
   ],
   "source": [
    "w, costs = grad_descent(x_test, y_test, 1000, 0.01)\n",
    "prediction_Ys_test = (x_test).dot(w)\n",
    "prediction_Ys_test"
   ]
  },
  {
   "cell_type": "markdown",
   "id": "582195f5",
   "metadata": {},
   "source": [
    "# Revert back standardized data into the original form"
   ]
  },
  {
   "cell_type": "code",
   "execution_count": 24,
   "id": "7c58f38e",
   "metadata": {},
   "outputs": [
    {
     "data": {
      "text/html": [
       "<div>\n",
       "<style scoped>\n",
       "    .dataframe tbody tr th:only-of-type {\n",
       "        vertical-align: middle;\n",
       "    }\n",
       "\n",
       "    .dataframe tbody tr th {\n",
       "        vertical-align: top;\n",
       "    }\n",
       "\n",
       "    .dataframe thead th {\n",
       "        text-align: right;\n",
       "    }\n",
       "</style>\n",
       "<table border=\"1\" class=\"dataframe\">\n",
       "  <thead>\n",
       "    <tr style=\"text-align: right;\">\n",
       "      <th></th>\n",
       "      <th>bias</th>\n",
       "      <th>TV</th>\n",
       "      <th>Radio</th>\n",
       "      <th>Newspaper</th>\n",
       "    </tr>\n",
       "  </thead>\n",
       "  <tbody>\n",
       "    <tr>\n",
       "      <th>0</th>\n",
       "      <td>1</td>\n",
       "      <td>230.1</td>\n",
       "      <td>37.8</td>\n",
       "      <td>69.2</td>\n",
       "    </tr>\n",
       "    <tr>\n",
       "      <th>1</th>\n",
       "      <td>1</td>\n",
       "      <td>44.5</td>\n",
       "      <td>39.3</td>\n",
       "      <td>45.1</td>\n",
       "    </tr>\n",
       "    <tr>\n",
       "      <th>2</th>\n",
       "      <td>1</td>\n",
       "      <td>17.2</td>\n",
       "      <td>45.9</td>\n",
       "      <td>69.3</td>\n",
       "    </tr>\n",
       "    <tr>\n",
       "      <th>3</th>\n",
       "      <td>1</td>\n",
       "      <td>151.5</td>\n",
       "      <td>41.3</td>\n",
       "      <td>58.5</td>\n",
       "    </tr>\n",
       "    <tr>\n",
       "      <th>4</th>\n",
       "      <td>1</td>\n",
       "      <td>180.8</td>\n",
       "      <td>10.8</td>\n",
       "      <td>58.4</td>\n",
       "    </tr>\n",
       "    <tr>\n",
       "      <th>...</th>\n",
       "      <td>...</td>\n",
       "      <td>...</td>\n",
       "      <td>...</td>\n",
       "      <td>...</td>\n",
       "    </tr>\n",
       "    <tr>\n",
       "      <th>195</th>\n",
       "      <td>1</td>\n",
       "      <td>38.2</td>\n",
       "      <td>3.7</td>\n",
       "      <td>13.8</td>\n",
       "    </tr>\n",
       "    <tr>\n",
       "      <th>196</th>\n",
       "      <td>1</td>\n",
       "      <td>94.2</td>\n",
       "      <td>4.9</td>\n",
       "      <td>8.1</td>\n",
       "    </tr>\n",
       "    <tr>\n",
       "      <th>197</th>\n",
       "      <td>1</td>\n",
       "      <td>177.0</td>\n",
       "      <td>9.3</td>\n",
       "      <td>6.4</td>\n",
       "    </tr>\n",
       "    <tr>\n",
       "      <th>198</th>\n",
       "      <td>1</td>\n",
       "      <td>283.6</td>\n",
       "      <td>42.0</td>\n",
       "      <td>66.2</td>\n",
       "    </tr>\n",
       "    <tr>\n",
       "      <th>199</th>\n",
       "      <td>1</td>\n",
       "      <td>232.1</td>\n",
       "      <td>8.6</td>\n",
       "      <td>8.7</td>\n",
       "    </tr>\n",
       "  </tbody>\n",
       "</table>\n",
       "<p>200 rows × 4 columns</p>\n",
       "</div>"
      ],
      "text/plain": [
       "     bias     TV  Radio  Newspaper\n",
       "0       1  230.1   37.8       69.2\n",
       "1       1   44.5   39.3       45.1\n",
       "2       1   17.2   45.9       69.3\n",
       "3       1  151.5   41.3       58.5\n",
       "4       1  180.8   10.8       58.4\n",
       "..    ...    ...    ...        ...\n",
       "195     1   38.2    3.7       13.8\n",
       "196     1   94.2    4.9        8.1\n",
       "197     1  177.0    9.3        6.4\n",
       "198     1  283.6   42.0       66.2\n",
       "199     1  232.1    8.6        8.7\n",
       "\n",
       "[200 rows x 4 columns]"
      ]
     },
     "execution_count": 24,
     "metadata": {},
     "output_type": "execute_result"
    }
   ],
   "source": [
    "reverted = scaled.drop(\"bias\", axis=1)\n",
    "reverted *= np.std(x) \n",
    "reverted += x.mean()\n",
    "reverted.insert(0, 'bias', [1]*len(reverted))\n",
    "reverted"
   ]
  },
  {
   "cell_type": "markdown",
   "id": "7fa123fb",
   "metadata": {},
   "source": [
    "# Observe the cost results and analyse"
   ]
  },
  {
   "cell_type": "code",
   "execution_count": 25,
   "id": "e58f5c54",
   "metadata": {},
   "outputs": [
    {
     "name": "stdout",
     "output_type": "stream",
     "text": [
      "x_train size: (170, 4)\n",
      "y_train size: (170,)\n",
      "\n",
      "x_test size: (30, 4)\n",
      "y_test size: (30,)\n"
     ]
    }
   ],
   "source": [
    "x_train, x_test, y_train, y_test = train_test_split(reverted, y, train_size=0.85, test_size=0.15, random_state = 42)\n",
    "print(\"x_train size:\", x_train.shape)\n",
    "print(\"y_train size:\", y_train.shape)\n",
    "print(\"\\nx_test size:\", x_test.shape)\n",
    "print(\"y_test size:\", y_test.shape)"
   ]
  },
  {
   "cell_type": "markdown",
   "id": "e5378864",
   "metadata": {},
   "source": [
    "The presence of the predictor set $x^{(i)}_J$ in the graident descent formula affects the step size. The difference in ranges causes different step sizes for each feature and overshoots the minimum."
   ]
  },
  {
   "cell_type": "code",
   "execution_count": 26,
   "id": "70e3489c",
   "metadata": {
    "scrolled": false
   },
   "outputs": [
    {
     "name": "stderr",
     "output_type": "stream",
     "text": [
      "C:\\Users\\Distortion\\AppData\\Local\\Temp\\ipykernel_31172\\1182495154.py:2: RuntimeWarning: invalid value encountered in subtract\n",
      "  weights -= gradients\n"
     ]
    },
    {
     "data": {
      "image/png": "[encoded data removed]",
      "text/plain": [
       "<Figure size 432x288 with 1 Axes>"
      ]
     },
     "metadata": {
      "needs_background": "light"
     },
     "output_type": "display_data"
    }
   ],
   "source": [
    "w, costs = grad_descent(x_train, y_train, 200, 0.08)\n",
    "plot_costs(costs)"
   ]
  },
  {
   "cell_type": "markdown",
   "id": "187f76c6",
   "metadata": {},
   "source": [
    "This can be resolved by lowering the value of the learning rate ($\\alpha$) as seen below:"
   ]
  },
  {
   "cell_type": "code",
   "execution_count": 27,
   "id": "254d8ada",
   "metadata": {
    "scrolled": false
   },
   "outputs": [
    {
     "data": {
      "image/png": "[encoded data removed]",
      "text/plain": [
       "<Figure size 432x288 with 1 Axes>"
      ]
     },
     "metadata": {
      "needs_background": "light"
     },
     "output_type": "display_data"
    }
   ],
   "source": [
    "w, costs = grad_descent(x_train, y_train, 200, 0.000001)\n",
    "plot_costs(costs)"
   ]
  },
  {
   "cell_type": "markdown",
   "id": "74d1c686",
   "metadata": {},
   "source": [
    "# Predict the quantitative response y on the train set. (Original Data)"
   ]
  },
  {
   "cell_type": "code",
   "execution_count": 28,
   "id": "8c1863e1",
   "metadata": {},
   "outputs": [
    {
     "data": {
      "text/plain": [
       "9       2.142389\n",
       "18     14.794485\n",
       "55     39.609745\n",
       "75     53.960444\n",
       "150    10.568755\n",
       "         ...    \n",
       "106    15.752488\n",
       "14     26.107454\n",
       "92     30.605133\n",
       "179     5.789097\n",
       "102     3.055650\n",
       "Length: 170, dtype: float64"
      ]
     },
     "execution_count": 28,
     "metadata": {},
     "output_type": "execute_result"
    }
   ],
   "source": [
    "prediction_Yo_train = (x_train).dot(w)\n",
    "prediction_Yo_train"
   ]
  },
  {
   "cell_type": "markdown",
   "id": "a819e073",
   "metadata": {},
   "source": [
    "# Predict the quantitative response y on the test set. (Original Data)"
   ]
  },
  {
   "cell_type": "code",
   "execution_count": 29,
   "id": "9703a1b6",
   "metadata": {
    "scrolled": false
   },
   "outputs": [
    {
     "data": {
      "text/plain": [
       "95     29.424985\n",
       "15     36.323719\n",
       "30     19.574486\n",
       "158    34.796865\n",
       "128    18.140865\n",
       "115    34.252910\n",
       "69     24.372727\n",
       "170    11.069735\n",
       "174    -1.198681\n",
       "45     16.719311\n",
       "66     12.405675\n",
       "182    11.967321\n",
       "165    24.231181\n",
       "78     18.603630\n",
       "186     6.026276\n",
       "177    10.870510\n",
       "56     29.178584\n",
       "152    10.062614\n",
       "82     19.596384\n",
       "68      9.568492\n",
       "124    35.060409\n",
       "16     57.435106\n",
       "148    23.531807\n",
       "93     35.702355\n",
       "65      2.915370\n",
       "60      7.217802\n",
       "84     26.422867\n",
       "67      6.326177\n",
       "125    12.527214\n",
       "132    14.509034\n",
       "dtype: float64"
      ]
     },
     "execution_count": 29,
     "metadata": {},
     "output_type": "execute_result"
    }
   ],
   "source": [
    "w_test, costs_test = grad_descent(x_test, y_test, 2000, 0.00001)\n",
    "prediction_Yo_test = (x_test).dot(w)\n",
    "prediction_Yo_test"
   ]
  },
  {
   "cell_type": "markdown",
   "id": "27213e48",
   "metadata": {},
   "source": [
    "# Analysis Questions"
   ]
  },
  {
   "cell_type": "markdown",
   "id": "47a45af6",
   "metadata": {},
   "source": [
    "### Assume: init_w=np.array([0.0,0.0,0.0,0.0])"
   ]
  },
  {
   "cell_type": "code",
   "execution_count": 30,
   "id": "56d76342",
   "metadata": {},
   "outputs": [],
   "source": [
    "def initialize_weights():\n",
    "    weights = np.array([0.0, 0.0, 0.0, 0.0])\n",
    "    return weights"
   ]
  },
  {
   "cell_type": "code",
   "execution_count": 31,
   "id": "1f521e37",
   "metadata": {},
   "outputs": [],
   "source": [
    "weights = initialize_weights()"
   ]
  },
  {
   "cell_type": "markdown",
   "id": "5e6e07c1",
   "metadata": {},
   "source": [
    "### 1) What are the optimal weights found by your implemented gradient descent? Plug it into the linear model and interpret"
   ]
  },
  {
   "cell_type": "code",
   "execution_count": 32,
   "id": "f3888c3b",
   "metadata": {},
   "outputs": [],
   "source": [
    "x_train, x_test, y_train, y_test = train_test_split(scaled, y, train_size=0.85, test_size=0.15, random_state = 42)"
   ]
  },
  {
   "cell_type": "code",
   "execution_count": 33,
   "id": "fe3cf178",
   "metadata": {},
   "outputs": [
    {
     "data": {
      "text/plain": [
       "array([14.02477267,  3.83763432,  2.79115525,  0.01635503])"
      ]
     },
     "execution_count": 33,
     "metadata": {},
     "output_type": "execute_result"
    }
   ],
   "source": [
    "w, costs = grad_descent(x_train, y_train, 200, 0.8)\n",
    "w"
   ]
  },
  {
   "cell_type": "markdown",
   "id": "4e742100",
   "metadata": {},
   "source": [
    "$h_0 (x)=14.02477267+(3.83763432)TV+(2.79115525)Radio+(0.01635503)Newspaper$"
   ]
  },
  {
   "cell_type": "markdown",
   "id": "2813bcc2",
   "metadata": {},
   "source": [
    "The formed linear model suggests that television advertising (3.83763432) is the most impactful as a predictor variable in sales, followed by radio advertising (2.79115525) and newspaper advertising (0.01635503) respectively."
   ]
  },
  {
   "cell_type": "markdown",
   "id": "77c956d1",
   "metadata": {},
   "source": [
    "### 2) Provide a scatter plot of the $\\hat{y}^i$  and $y^{(i)}$ for both the train and test set. Is there a trend? Provide an r2 score (also available in sklearn)."
   ]
  },
  {
   "cell_type": "code",
   "execution_count": 41,
   "id": "4af76090",
   "metadata": {},
   "outputs": [
    {
     "name": "stdout",
     "output_type": "stream",
     "text": [
      "R2: 88.09862791659417\n"
     ]
    },
    {
     "data": {
      "text/plain": [
       "Text(0.5, 1.0, 'Actual vs Predicted')"
      ]
     },
     "execution_count": 41,
     "metadata": {},
     "output_type": "execute_result"
    },
    {
     "data": {
      "image/png": "[encoded data removed]",
      "text/plain": [
       "<Figure size 432x288 with 1 Axes>"
      ]
     },
     "metadata": {
      "needs_background": "light"
     },
     "output_type": "display_data"
    }
   ],
   "source": [
    "print(\"R2:\", r2_score(prediction_Ys_train, y_train)*100)\n",
    "f, ax = plt.subplots()\n",
    "plt.scatter(prediction_Ys_train, y_train)\n",
    "plt.xlabel(\"Predicted\")\n",
    "plt.ylabel(\"Actual\")\n",
    "plt.title(\"Actual vs Predicted\")"
   ]
  },
  {
   "cell_type": "code",
   "execution_count": 35,
   "id": "c3a88e95",
   "metadata": {},
   "outputs": [
    {
     "name": "stdout",
     "output_type": "stream",
     "text": [
      "R2: 91.61302798119006\n"
     ]
    },
    {
     "data": {
      "text/plain": [
       "Text(0.5, 1.0, 'Actual vs Predicted')"
      ]
     },
     "execution_count": 35,
     "metadata": {},
     "output_type": "execute_result"
    },
    {
     "data": {
      "image/png": "[encoded data removed]",
      "text/plain": [
       "<Figure size 432x288 with 1 Axes>"
      ]
     },
     "metadata": {
      "needs_background": "light"
     },
     "output_type": "display_data"
    }
   ],
   "source": [
    "print(\"R2:\", r2_score(prediction_Ys_test, y_test)*100)\n",
    "f, ax = plt.subplots()\n",
    "plt.scatter(prediction_Ys_test, y_test)\n",
    "plt.xlabel(\"Predicted\")\n",
    "plt.ylabel(\"Actual\")\n",
    "plt.title(\"Actual vs Predicted\")"
   ]
  },
  {
   "cell_type": "markdown",
   "id": "93ffb112",
   "metadata": {},
   "source": [
    "### 3) What happens to the error, r2, and cost as the number of iterations increase?"
   ]
  },
  {
   "cell_type": "code",
   "execution_count": 43,
   "id": "0fe9d384",
   "metadata": {},
   "outputs": [
    {
     "data": {
      "image/png": "[encoded data removed]",
      "text/plain": [
       "<Figure size 432x288 with 1 Axes>"
      ]
     },
     "metadata": {
      "needs_background": "light"
     },
     "output_type": "display_data"
    }
   ],
   "source": [
    "w, costs = grad_descent(x_train, y_train, 50000, 0.8)\n",
    "plot_costs(costs)"
   ]
  },
  {
   "cell_type": "markdown",
   "id": "af700894",
   "metadata": {},
   "source": [
    "The error, r2, and cost approach a certain value the more iterations are made. This can be explained with the error value decreasing as the predicted value reaches closer to the target value, r2 increasing for every independent variable in the model, and the cost value naturally being optimised."
   ]
  },
  {
   "cell_type": "markdown",
   "id": "fd0230ba",
   "metadata": {},
   "source": [
    "### 4) Visualize the cost function (vs the optimal number of iterations) of each learning rate in ONLY ONE PLOT."
   ]
  },
  {
   "cell_type": "code",
   "execution_count": 65,
   "id": "d343a8a3",
   "metadata": {},
   "outputs": [
    {
     "ename": "TypeError",
     "evalue": "scatter() missing 1 required positional argument: 'y'",
     "output_type": "error",
     "traceback": [
      "\u001b[1;31m---------------------------------------------------------------------------\u001b[0m",
      "\u001b[1;31mTypeError\u001b[0m                                 Traceback (most recent call last)",
      "Input \u001b[1;32mIn [65]\u001b[0m, in \u001b[0;36m<cell line: 7>\u001b[1;34m()\u001b[0m\n\u001b[0;32m      4\u001b[0m w_0001, c_0001 \u001b[38;5;241m=\u001b[39m grad_descent(x_train, y_train, \u001b[38;5;241m200\u001b[39m, \u001b[38;5;241m0.0001\u001b[39m)\n\u001b[0;32m      5\u001b[0m w_2, c_2 \u001b[38;5;241m=\u001b[39m grad_descent(x_train, y_train, \u001b[38;5;241m200\u001b[39m, \u001b[38;5;241m0.2\u001b[39m)\n\u001b[1;32m----> 7\u001b[0m \u001b[43mplt\u001b[49m\u001b[38;5;241;43m.\u001b[39;49m\u001b[43mscatter\u001b[49m\u001b[43m(\u001b[49m\u001b[43mc_1\u001b[49m\u001b[43m)\u001b[49m\n",
      "\u001b[1;31mTypeError\u001b[0m: scatter() missing 1 required positional argument: 'y'"
     ]
    }
   ],
   "source": [
    "w_1, c_1 = grad_descent(x_train, y_train, 200, 0.1)\n",
    "w_01, c_01 = grad_descent(x_train, y_train, 200, 0.01)\n",
    "w_001, c_001 = grad_descent(x_train, y_train, 200, 0.001)\n",
    "w_0001, c_0001 = grad_descent(x_train, y_train, 200, 0.0001)\n",
    "w_2, c_2 = grad_descent(x_train, y_train, 200, 0.2)\n",
    "\n",
    "plt.scatter(c_1)"
   ]
  },
  {
   "cell_type": "markdown",
   "id": "cfbe8645",
   "metadata": {},
   "source": [
    "### 5) Is there a relationship on the learning rate and the number of iterations?"
   ]
  },
  {
   "cell_type": "markdown",
   "id": "6299dff3",
   "metadata": {},
   "source": [
    "Yes, the learning rate and number of iterations directly affects the optimal weights received from the gradient descent functions. This is because the learning rate is used to scale the magnitude of parameter updates while the number of iterations dictate how frequent this occurs."
   ]
  },
  {
   "cell_type": "markdown",
   "id": "dcf66aef",
   "metadata": {},
   "source": [
    "### 6) Compare the results with the results of ordinary least squares function."
   ]
  },
  {
   "cell_type": "code",
   "execution_count": 54,
   "id": "91afb9a8",
   "metadata": {},
   "outputs": [
    {
     "name": "stdout",
     "output_type": "stream",
     "text": [
      "Least Squares R2:\t 88.80410451866064\n",
      "Gradient Descent R2:\t 91.61302798119006\n"
     ]
    }
   ],
   "source": [
    "linreg = LinearRegression()\n",
    "linreg.fit(x_train, y_train)\n",
    "y_pred = linreg.predict(x_test)\n",
    "print(\"Least Squares R2:\\t\", r2_score(y_pred, y_test)*100)\n",
    "print(\"Gradient Descent R2:\\t\", r2_score(prediction_Ys_test, y_test)*100)"
   ]
  },
  {
   "cell_type": "markdown",
   "id": "6f865191",
   "metadata": {},
   "source": [
    "Comparing the R2 values, we can see that the gradient descent model is a better fit than the least squares model."
   ]
  },
  {
   "cell_type": "code",
   "execution_count": null,
   "id": "236da79d",
   "metadata": {},
   "outputs": [],
   "source": []
  }
 ],
 "metadata": {
  "kernelspec": {
   "display_name": "Python 3 (ipykernel)",
   "language": "python",
   "name": "python3"
  },
  "language_info": {
   "codemirror_mode": {
    "name": "ipython",
    "version": 3
   },
   "file_extension": ".py",
   "mimetype": "text/x-python",
   "name": "python",
   "nbconvert_exporter": "python",
   "pygments_lexer": "ipython3",
   "version": "3.9.12"
  }
 },
 "nbformat": 4,
 "nbformat_minor": 5
}
