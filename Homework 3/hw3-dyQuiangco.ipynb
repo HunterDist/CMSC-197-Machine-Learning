{
 "cells": [
  {
   "cell_type": "markdown",
   "id": "7497a44c",
   "metadata": {},
   "source": [
    "# Import numpy, pandas, matpotlib, and sklearn libraries"
   ]
  },
  {
   "cell_type": "code",
   "execution_count": 90,
   "id": "baf49687",
   "metadata": {},
   "outputs": [],
   "source": [
    "import numpy as np\n",
    "import pandas as pd\n",
    "import matplotlib as plt\n",
    "from sklearn.preprocessing import StandardScaler, scale\n",
    "from sklearn.model_selection import train_test_split"
   ]
  },
  {
   "cell_type": "markdown",
   "id": "5dad5dab",
   "metadata": {},
   "source": [
    "# Load Advertising.csv using pandas"
   ]
  },
  {
   "cell_type": "code",
   "execution_count": 32,
   "id": "e899296f",
   "metadata": {},
   "outputs": [],
   "source": [
    "df = pd.read_csv(\"data/Advertising.csv\", index_col = 0)"
   ]
  },
  {
   "cell_type": "code",
   "execution_count": 33,
   "id": "d849201c",
   "metadata": {},
   "outputs": [
    {
     "data": {
      "text/html": [
       "<div>\n",
       "<style scoped>\n",
       "    .dataframe tbody tr th:only-of-type {\n",
       "        vertical-align: middle;\n",
       "    }\n",
       "\n",
       "    .dataframe tbody tr th {\n",
       "        vertical-align: top;\n",
       "    }\n",
       "\n",
       "    .dataframe thead th {\n",
       "        text-align: right;\n",
       "    }\n",
       "</style>\n",
       "<table border=\"1\" class=\"dataframe\">\n",
       "  <thead>\n",
       "    <tr style=\"text-align: right;\">\n",
       "      <th></th>\n",
       "      <th>TV</th>\n",
       "      <th>Radio</th>\n",
       "      <th>Newspaper</th>\n",
       "      <th>Sales</th>\n",
       "    </tr>\n",
       "  </thead>\n",
       "  <tbody>\n",
       "    <tr>\n",
       "      <th>1</th>\n",
       "      <td>230.1</td>\n",
       "      <td>37.8</td>\n",
       "      <td>69.2</td>\n",
       "      <td>22.1</td>\n",
       "    </tr>\n",
       "    <tr>\n",
       "      <th>2</th>\n",
       "      <td>44.5</td>\n",
       "      <td>39.3</td>\n",
       "      <td>45.1</td>\n",
       "      <td>10.4</td>\n",
       "    </tr>\n",
       "    <tr>\n",
       "      <th>3</th>\n",
       "      <td>17.2</td>\n",
       "      <td>45.9</td>\n",
       "      <td>69.3</td>\n",
       "      <td>9.3</td>\n",
       "    </tr>\n",
       "    <tr>\n",
       "      <th>4</th>\n",
       "      <td>151.5</td>\n",
       "      <td>41.3</td>\n",
       "      <td>58.5</td>\n",
       "      <td>18.5</td>\n",
       "    </tr>\n",
       "    <tr>\n",
       "      <th>5</th>\n",
       "      <td>180.8</td>\n",
       "      <td>10.8</td>\n",
       "      <td>58.4</td>\n",
       "      <td>12.9</td>\n",
       "    </tr>\n",
       "  </tbody>\n",
       "</table>\n",
       "</div>"
      ],
      "text/plain": [
       "      TV  Radio  Newspaper  Sales\n",
       "1  230.1   37.8       69.2   22.1\n",
       "2   44.5   39.3       45.1   10.4\n",
       "3   17.2   45.9       69.3    9.3\n",
       "4  151.5   41.3       58.5   18.5\n",
       "5  180.8   10.8       58.4   12.9"
      ]
     },
     "execution_count": 33,
     "metadata": {},
     "output_type": "execute_result"
    }
   ],
   "source": [
    "df.head()"
   ]
  },
  {
   "cell_type": "code",
   "execution_count": 34,
   "id": "6ebd4a73",
   "metadata": {
    "scrolled": true
   },
   "outputs": [
    {
     "data": {
      "text/html": [
       "<div>\n",
       "<style scoped>\n",
       "    .dataframe tbody tr th:only-of-type {\n",
       "        vertical-align: middle;\n",
       "    }\n",
       "\n",
       "    .dataframe tbody tr th {\n",
       "        vertical-align: top;\n",
       "    }\n",
       "\n",
       "    .dataframe thead th {\n",
       "        text-align: right;\n",
       "    }\n",
       "</style>\n",
       "<table border=\"1\" class=\"dataframe\">\n",
       "  <thead>\n",
       "    <tr style=\"text-align: right;\">\n",
       "      <th></th>\n",
       "      <th>TV</th>\n",
       "      <th>Radio</th>\n",
       "      <th>Newspaper</th>\n",
       "    </tr>\n",
       "  </thead>\n",
       "  <tbody>\n",
       "    <tr>\n",
       "      <th>1</th>\n",
       "      <td>230.1</td>\n",
       "      <td>37.8</td>\n",
       "      <td>69.2</td>\n",
       "    </tr>\n",
       "    <tr>\n",
       "      <th>2</th>\n",
       "      <td>44.5</td>\n",
       "      <td>39.3</td>\n",
       "      <td>45.1</td>\n",
       "    </tr>\n",
       "    <tr>\n",
       "      <th>3</th>\n",
       "      <td>17.2</td>\n",
       "      <td>45.9</td>\n",
       "      <td>69.3</td>\n",
       "    </tr>\n",
       "    <tr>\n",
       "      <th>4</th>\n",
       "      <td>151.5</td>\n",
       "      <td>41.3</td>\n",
       "      <td>58.5</td>\n",
       "    </tr>\n",
       "    <tr>\n",
       "      <th>5</th>\n",
       "      <td>180.8</td>\n",
       "      <td>10.8</td>\n",
       "      <td>58.4</td>\n",
       "    </tr>\n",
       "  </tbody>\n",
       "</table>\n",
       "</div>"
      ],
      "text/plain": [
       "      TV  Radio  Newspaper\n",
       "1  230.1   37.8       69.2\n",
       "2   44.5   39.3       45.1\n",
       "3   17.2   45.9       69.3\n",
       "4  151.5   41.3       58.5\n",
       "5  180.8   10.8       58.4"
      ]
     },
     "execution_count": 34,
     "metadata": {},
     "output_type": "execute_result"
    }
   ],
   "source": [
    "x = df.drop(\"Sales\", axis = 1)\n",
    "y = df[\"Sales\"]\n",
    "x.head()"
   ]
  },
  {
   "cell_type": "markdown",
   "id": "745deb9f",
   "metadata": {},
   "source": [
    "# Standardize each column of the dataset"
   ]
  },
  {
   "cell_type": "code",
   "execution_count": 99,
   "id": "62bbe06d",
   "metadata": {},
   "outputs": [
    {
     "data": {
      "text/html": [
       "<div>\n",
       "<style scoped>\n",
       "    .dataframe tbody tr th:only-of-type {\n",
       "        vertical-align: middle;\n",
       "    }\n",
       "\n",
       "    .dataframe tbody tr th {\n",
       "        vertical-align: top;\n",
       "    }\n",
       "\n",
       "    .dataframe thead th {\n",
       "        text-align: right;\n",
       "    }\n",
       "</style>\n",
       "<table border=\"1\" class=\"dataframe\">\n",
       "  <thead>\n",
       "    <tr style=\"text-align: right;\">\n",
       "      <th></th>\n",
       "      <th>bias</th>\n",
       "      <th>TV</th>\n",
       "      <th>Radio</th>\n",
       "      <th>Newspaper</th>\n",
       "    </tr>\n",
       "  </thead>\n",
       "  <tbody>\n",
       "    <tr>\n",
       "      <th>0</th>\n",
       "      <td>1</td>\n",
       "      <td>0.969852</td>\n",
       "      <td>0.981522</td>\n",
       "      <td>1.778945</td>\n",
       "    </tr>\n",
       "    <tr>\n",
       "      <th>1</th>\n",
       "      <td>1</td>\n",
       "      <td>-1.197376</td>\n",
       "      <td>1.082808</td>\n",
       "      <td>0.669579</td>\n",
       "    </tr>\n",
       "    <tr>\n",
       "      <th>2</th>\n",
       "      <td>1</td>\n",
       "      <td>-1.516155</td>\n",
       "      <td>1.528463</td>\n",
       "      <td>1.783549</td>\n",
       "    </tr>\n",
       "    <tr>\n",
       "      <th>3</th>\n",
       "      <td>1</td>\n",
       "      <td>0.052050</td>\n",
       "      <td>1.217855</td>\n",
       "      <td>1.286405</td>\n",
       "    </tr>\n",
       "    <tr>\n",
       "      <th>4</th>\n",
       "      <td>1</td>\n",
       "      <td>0.394182</td>\n",
       "      <td>-0.841614</td>\n",
       "      <td>1.281802</td>\n",
       "    </tr>\n",
       "    <tr>\n",
       "      <th>...</th>\n",
       "      <td>...</td>\n",
       "      <td>...</td>\n",
       "      <td>...</td>\n",
       "      <td>...</td>\n",
       "    </tr>\n",
       "    <tr>\n",
       "      <th>195</th>\n",
       "      <td>1</td>\n",
       "      <td>-1.270941</td>\n",
       "      <td>-1.321031</td>\n",
       "      <td>-0.771217</td>\n",
       "    </tr>\n",
       "    <tr>\n",
       "      <th>196</th>\n",
       "      <td>1</td>\n",
       "      <td>-0.617035</td>\n",
       "      <td>-1.240003</td>\n",
       "      <td>-1.033598</td>\n",
       "    </tr>\n",
       "    <tr>\n",
       "      <th>197</th>\n",
       "      <td>1</td>\n",
       "      <td>0.349810</td>\n",
       "      <td>-0.942899</td>\n",
       "      <td>-1.111852</td>\n",
       "    </tr>\n",
       "    <tr>\n",
       "      <th>198</th>\n",
       "      <td>1</td>\n",
       "      <td>1.594565</td>\n",
       "      <td>1.265121</td>\n",
       "      <td>1.640850</td>\n",
       "    </tr>\n",
       "    <tr>\n",
       "      <th>199</th>\n",
       "      <td>1</td>\n",
       "      <td>0.993206</td>\n",
       "      <td>-0.990165</td>\n",
       "      <td>-1.005979</td>\n",
       "    </tr>\n",
       "  </tbody>\n",
       "</table>\n",
       "<p>200 rows × 4 columns</p>\n",
       "</div>"
      ],
      "text/plain": [
       "     bias        TV     Radio  Newspaper\n",
       "0       1  0.969852  0.981522   1.778945\n",
       "1       1 -1.197376  1.082808   0.669579\n",
       "2       1 -1.516155  1.528463   1.783549\n",
       "3       1  0.052050  1.217855   1.286405\n",
       "4       1  0.394182 -0.841614   1.281802\n",
       "..    ...       ...       ...        ...\n",
       "195     1 -1.270941 -1.321031  -0.771217\n",
       "196     1 -0.617035 -1.240003  -1.033598\n",
       "197     1  0.349810 -0.942899  -1.111852\n",
       "198     1  1.594565  1.265121   1.640850\n",
       "199     1  0.993206 -0.990165  -1.005979\n",
       "\n",
       "[200 rows x 4 columns]"
      ]
     },
     "execution_count": 99,
     "metadata": {},
     "output_type": "execute_result"
    }
   ],
   "source": [
    "scaled = pd.DataFrame(scale(x), columns=[\"TV\",\"Radio\",\"Newspaper\"])\n",
    "scaled.insert(0, 'bias', [1]*len(scaled))\n",
    "scaled"
   ]
  },
  {
   "cell_type": "markdown",
   "id": "9292cabc",
   "metadata": {},
   "source": [
    "# Divide the dataset into training and testing, with 0.85 and 0.15 ratio, respectively."
   ]
  },
  {
   "cell_type": "code",
   "execution_count": 104,
   "id": "1a932305",
   "metadata": {},
   "outputs": [],
   "source": [
    "x_train, x_test, y_train, y_test = train_test_split(scaled, y, train_size=0.85, test_size=0.15, random_state = 42)"
   ]
  },
  {
   "cell_type": "code",
   "execution_count": 105,
   "id": "0837fe45",
   "metadata": {},
   "outputs": [
    {
     "name": "stdout",
     "output_type": "stream",
     "text": [
      "x_train size: (170, 4)\n",
      "y_train size: (170,)\n",
      "\n",
      "x_test size: (30, 4)\n",
      "y_test size: (30,)\n"
     ]
    }
   ],
   "source": [
    "print(\"x_train size:\", x_train.shape)\n",
    "print(\"y_train size:\", y_train.shape)\n",
    "print(\"\\nx_test size:\", x_test.shape)\n",
    "print(\"y_test size:\", y_test.shape)"
   ]
  },
  {
   "cell_type": "markdown",
   "id": "334e47c1",
   "metadata": {},
   "source": [
    "# Fit the model on the training set"
   ]
  },
  {
   "cell_type": "code",
   "execution_count": 169,
   "id": "64ece9a4",
   "metadata": {},
   "outputs": [],
   "source": [
    "def initialize_weights():\n",
    "    np.random.seed(2)\n",
    "    init_w = np.random.uniform(low=0.0, high=1.0, size=4)\n",
    "    return init_w"
   ]
  },
  {
   "cell_type": "code",
   "execution_count": 170,
   "id": "722278a1",
   "metadata": {},
   "outputs": [
    {
     "data": {
      "text/plain": [
       "array([0.4359949 , 0.02592623, 0.54966248, 0.43532239])"
      ]
     },
     "execution_count": 170,
     "metadata": {},
     "output_type": "execute_result"
    }
   ],
   "source": [
    "weight = initialize_weights()\n",
    "weight"
   ]
  },
  {
   "cell_type": "code",
   "execution_count": 171,
   "id": "13a3f3e3",
   "metadata": {},
   "outputs": [],
   "source": [
    "def predict(features, weight):\n",
    "    predictions = np.dot(features, weight)\n",
    "    return predictions"
   ]
  },
  {
   "cell_type": "code",
   "execution_count": 172,
   "id": "6533f5e5",
   "metadata": {},
   "outputs": [
    {
     "data": {
      "text/plain": [
       "array([-5.02423053e-01,  6.42887652e-02,  2.01179507e+00,  2.33427757e+00,\n",
       "        2.58080929e-01,  3.67137873e-01,  8.45134434e-01,  1.26756730e+00,\n",
       "       -3.94946771e-01, -6.01719221e-01, -3.00431606e-01, -5.57226297e-01,\n",
       "        6.23151167e-01, -2.31009946e-01, -6.14736444e-01, -6.58804965e-01,\n",
       "        3.48564626e-01,  2.30155072e-01, -1.51676072e-01,  2.80155411e-01,\n",
       "        1.36776891e+00, -5.13235661e-01,  2.23623702e+00,  1.37586911e+00,\n",
       "       -7.34835701e-01, -2.06288090e-01, -1.72551691e-01,  1.59942557e+00,\n",
       "        8.37663832e-03, -7.76277217e-01, -4.76492853e-01,  1.92016184e-01,\n",
       "        3.69246560e-01,  1.54626706e+00, -6.73722695e-01, -3.76510959e-02,\n",
       "        6.88140447e-02, -1.60569618e-01, -6.75347753e-01,  5.57371898e-01,\n",
       "       -6.25389737e-01, -8.75594037e-01,  1.57581024e-01,  9.84498577e-01,\n",
       "        1.91043774e+00, -4.17893439e-02,  2.98993516e-01,  6.35168330e-01,\n",
       "        1.40620823e-01,  8.64215932e-01,  2.01324431e+00,  2.94581951e-01,\n",
       "        2.57471261e-02,  4.03532964e-01, -5.40296868e-01,  9.73719751e-01,\n",
       "        1.25834505e+00,  7.22408925e-01,  5.69386423e-01,  1.67580927e+00,\n",
       "        5.03816358e-01,  1.80321189e+00,  2.37468526e+00, -2.55507412e-01,\n",
       "       -4.83129644e-02,  4.02622403e-01,  3.31898475e-01,  6.21464429e-01,\n",
       "        6.71668813e-02,  8.79020840e-01,  5.41608176e-01, -3.97970221e-01,\n",
       "        9.74213679e-01, -7.90888434e-01,  1.01700454e-01,  2.73703013e-01,\n",
       "       -3.64014475e-01,  1.10556679e-01, -4.11372051e-01, -5.66264938e-01,\n",
       "        7.49555340e-01,  1.77506039e+00,  1.88702451e+00,  1.19655985e+00,\n",
       "        8.87266606e-01,  4.85701967e-01,  1.12310645e+00,  7.44903895e-01,\n",
       "        4.79392532e-01,  4.55798439e-01,  4.37965401e-01, -5.52427313e-01,\n",
       "       -5.38231790e-01,  1.57066070e+00, -4.83982425e-01,  1.37145254e-01,\n",
       "        3.84318777e-01,  1.69575301e+00, -1.20033541e-01,  1.02527426e+00,\n",
       "        1.01112609e+00,  8.99392298e-01, -3.13681479e-01, -5.38778514e-02,\n",
       "       -1.80804514e-01,  3.00864043e-01,  1.66675444e+00,  1.86194391e+00,\n",
       "        1.86204163e+00,  1.12941480e+00, -7.74000272e-01, -4.40180396e-01,\n",
       "        1.04448391e+00,  1.07694561e-01,  3.76737230e-01, -8.55009995e-01,\n",
       "       -8.79344270e-02,  4.20658434e-01, -3.58621972e-01,  1.30147974e+00,\n",
       "        5.18633797e-01, -2.68599583e-01,  1.75310426e+00, -9.83645355e-01,\n",
       "       -6.28358765e-01,  2.60814507e-01,  6.91111275e-01, -3.46462676e-02,\n",
       "        1.58887982e+00,  5.35430970e-01,  1.65214705e+00,  1.67412440e+00,\n",
       "       -4.39874078e-01,  2.03756723e+00,  2.13795569e-01,  3.82831519e-01,\n",
       "       -5.80830056e-01, -2.15347168e-01, -7.11533939e-01,  1.57595814e+00,\n",
       "        5.70902257e-01,  1.35977811e+00, -3.52163245e-01,  2.25670112e-03,\n",
       "        2.54964763e-01, -2.93627894e-01,  2.42862807e-01,  1.68764197e+00,\n",
       "       -5.03689737e-01,  5.97243455e-01,  1.29161290e+00,  1.32251713e+00,\n",
       "        2.99671048e-01,  5.60079629e-01,  2.40052887e-01, -3.02718253e-02,\n",
       "        1.42417853e+00,  1.64870588e-03,  1.72260393e+00,  1.55914558e-01,\n",
       "        7.36810602e-01, -5.20437119e-01,  1.08004404e+00, -4.07602580e-01,\n",
       "        1.14984168e-01, -7.32453773e-02,  1.12042754e+00,  1.40731670e+00,\n",
       "       -3.10263680e-01, -1.95711471e-01])"
      ]
     },
     "execution_count": 172,
     "metadata": {},
     "output_type": "execute_result"
    }
   ],
   "source": [
    "predict(x_train, weight)"
   ]
  },
  {
   "cell_type": "code",
   "execution_count": 173,
   "id": "3ce20941",
   "metadata": {},
   "outputs": [],
   "source": [
    "def compute_cost(features, target, data):\n",
    "    N = len(targets)\n",
    "    predictions = predict(features, weights)\n",
    "    sq_error = (predictions - targets)**2\n",
    "    return 1.0/(2*N) * sq_error.sum()"
   ]
  },
  {
   "cell_type": "code",
   "execution_count": 174,
   "id": "c20359e8",
   "metadata": {},
   "outputs": [],
   "source": [
    "def update_weights(features, targets, weights, lr):\n",
    "    x1 = features[:,0]\n",
    "    x2 = features[:,1]\n",
    "    x3 = features[:,2]\n",
    "    \n",
    "    d_w1 = -x1.dot(targets - predictions)\n",
    "    d_w2 = -x2.dot(targets - predictions)\n",
    "    d_w2 = -x2.dot(targets - predictions)\n",
    "    \n",
    "    weights[0][0] -= (lr * np.mean(d_w1))\n",
    "    weights[1][0] -= (lr * np.mean(d_w2))\n",
    "    weights[2][0] -= (lr * np.mean(d_w3))\n",
    "    return weights"
   ]
  },
  {
   "cell_type": "code",
   "execution_count": null,
   "id": "2395c36d",
   "metadata": {},
   "outputs": [],
   "source": [
    "def grad_descent:\n",
    "    "
   ]
  }
 ],
 "metadata": {
  "kernelspec": {
   "display_name": "Python 3 (ipykernel)",
   "language": "python",
   "name": "python3"
  },
  "language_info": {
   "codemirror_mode": {
    "name": "ipython",
    "version": 3
   },
   "file_extension": ".py",
   "mimetype": "text/x-python",
   "name": "python",
   "nbconvert_exporter": "python",
   "pygments_lexer": "ipython3",
   "version": "3.9.12"
  }
 },
 "nbformat": 4,
 "nbformat_minor": 5
}
