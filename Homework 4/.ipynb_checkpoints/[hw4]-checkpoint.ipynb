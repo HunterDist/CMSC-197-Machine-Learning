{
 "cells": [
  {
   "cell_type": "markdown",
   "id": "abca102a",
   "metadata": {},
   "source": [
    "# CMSC 197 Section 1  - Problem Set 2 - HW 4<br>## Aren Deza, 2019-50022\n",
    "# Naive Bayes Spam Filter"
   ]
  },
  {
   "cell_type": "code",
   "execution_count": 1,
   "id": "e6c5ee93",
   "metadata": {},
   "outputs": [],
   "source": [
    "# Packages used for Data Processing\n",
    "import numpy as np \n",
    "import pandas as pd\n",
    "import matplotlib.pyplot as plt\n",
    "import email\n",
    "\n",
    "# Packages used for File Management\n",
    "import os\n",
    "\n",
    "# Packages for text replacement and vectorizing\n",
    "import re\n",
    "from sklearn.feature_extraction.text import CountVectorizer as cv"
   ]
  },
  {
   "cell_type": "markdown",
   "id": "a71dd654",
   "metadata": {},
   "source": [
    "### Importing the data"
   ]
  },
  {
   "cell_type": "code",
   "execution_count": 3,
   "id": "6cc25d54",
   "metadata": {},
   "outputs": [],
   "source": [
    "# Importing the data and placing it in a dataframe\n",
    "filelist = os.listdir('Data/trec06p-cs280/data')\n",
    "labels = pd.read_csv('Data/trec06p-cs280/labels', sep = ' ')\n",
    "\n",
    "# creating a list of stop words from the text file\n",
    "stop_words = list(open('stop_words.txt', 'r').read().split())"
   ]
  },
  {
   "cell_type": "code",
   "execution_count": 4,
   "id": "bdc17ba7",
   "metadata": {},
   "outputs": [
    {
     "data": {
      "text/html": [
       "<div>\n",
       "<style scoped>\n",
       "    .dataframe tbody tr th:only-of-type {\n",
       "        vertical-align: middle;\n",
       "    }\n",
       "\n",
       "    .dataframe tbody tr th {\n",
       "        vertical-align: top;\n",
       "    }\n",
       "\n",
       "    .dataframe thead th {\n",
       "        text-align: right;\n",
       "    }\n",
       "</style>\n",
       "<table border=\"1\" class=\"dataframe\">\n",
       "  <thead>\n",
       "    <tr style=\"text-align: right;\">\n",
       "      <th></th>\n",
       "      <th>content</th>\n",
       "      <th>type</th>\n",
       "      <th>location</th>\n",
       "    </tr>\n",
       "  </thead>\n",
       "  <tbody>\n",
       "    <tr>\n",
       "      <th>0</th>\n",
       "      <td></td>\n",
       "      <td>ham</td>\n",
       "      <td>/data/000/000</td>\n",
       "    </tr>\n",
       "    <tr>\n",
       "      <th>1</th>\n",
       "      <td></td>\n",
       "      <td>spam</td>\n",
       "      <td>/data/000/001</td>\n",
       "    </tr>\n",
       "    <tr>\n",
       "      <th>2</th>\n",
       "      <td></td>\n",
       "      <td>spam</td>\n",
       "      <td>/data/000/002</td>\n",
       "    </tr>\n",
       "    <tr>\n",
       "      <th>3</th>\n",
       "      <td></td>\n",
       "      <td>ham</td>\n",
       "      <td>/data/000/003</td>\n",
       "    </tr>\n",
       "    <tr>\n",
       "      <th>4</th>\n",
       "      <td></td>\n",
       "      <td>spam</td>\n",
       "      <td>/data/000/004</td>\n",
       "    </tr>\n",
       "  </tbody>\n",
       "</table>\n",
       "</div>"
      ],
      "text/plain": [
       "  content  type       location\n",
       "0           ham  /data/000/000\n",
       "1          spam  /data/000/001\n",
       "2          spam  /data/000/002\n",
       "3           ham  /data/000/003\n",
       "4          spam  /data/000/004"
      ]
     },
     "execution_count": 4,
     "metadata": {},
     "output_type": "execute_result"
    }
   ],
   "source": [
    "# Making the dataframe easier to use\n",
    "df = pd.DataFrame({'ham':['ham'],'../data/000/000':['../data/000/000']})\n",
    "df = pd.concat([df,labels])\n",
    "df.reset_index(inplace = True)\n",
    "\n",
    "df.rename(columns = {'index':'content','ham':'type','../data/000/000':'location'}, inplace = True)\n",
    "df['content'] = ''\n",
    "df['location'] = df['location'].str.replace('^..', '', regex = True)\n",
    "\n",
    "df.head()"
   ]
  },
  {
   "cell_type": "markdown",
   "id": "b70e9906",
   "metadata": {},
   "source": [
    "### Extracting the bodies of the emails"
   ]
  },
  {
   "cell_type": "code",
   "execution_count": 7,
   "id": "54738c3a",
   "metadata": {
    "scrolled": true
   },
   "outputs": [],
   "source": [
    "def email_extractor(df, stopwords_yes):\n",
    "    for i in df.index:\n",
    "        # iterate through each location and then extract the email body\n",
    "        # note to self, do a more elegant version of this next time.\n",
    "        with open(\"Data/trec06p-cs280\" + df['location'][i], \"rb\") as f:\n",
    "            msg = f.read().decode('latin-1')\n",
    "            msg = email.message_from_string(msg)\n",
    "        # contingency if msg is multipart\n",
    "        if msg.is_multipart():\n",
    "            for part in msg.walk():\n",
    "                payload = part.get_payload(decode=True)\n",
    "                # contingency in case of no payload, just decode\n",
    "                if str(type(payload)) == \"<class 'NoneType'>\":\n",
    "                    msg = msg.get_payload()[0].get_payload();\n",
    "                    break\n",
    "                msg = payload.decode()\n",
    "        else:\n",
    "            payload = msg.get_payload(decode=True)\n",
    "            if str(type(payload)) == \"<class 'NoneType'>\":\n",
    "                msg = msg.get_payload()[0].get_payload();\n",
    "                break\n",
    "            msg = payload.decode('latin-1')\n",
    "\n",
    "        # in case of list, convert to single uninterrupted string\n",
    "        if isinstance(msg,list):\n",
    "            temp = \"\"\n",
    "            for j in msg:\n",
    "                payload = j.get_payload(decode='True')\n",
    "                if str(type(payload)) == \"<class 'NoneType'>\":\n",
    "                    j = j.get_payload()[0].get_payload();\n",
    "                    temp = temp + j + \" \"\n",
    "                    continue\n",
    "                j = payload.decode('latin-1')\n",
    "                temp = temp + j + \" \"\n",
    "            msg = temp\n",
    "\n",
    "        # Lowercase + Removing special chars, stopwords, extra whitespace\n",
    "        if msg != '':\n",
    "            msg = msg.lower()\n",
    "            msg = re.sub(r\"[^a-z\\n ]\", \"\", msg)\n",
    "            msg = re.sub(r'\\n' , ' ', msg)\n",
    "            if stopwords_yes:\n",
    "                li = [word for word in msg.split() if word not in stop_words]\n",
    "                msg = \" \".join(li)\n",
    "\n",
    "        # adds msg\n",
    "        df['content'][i] = msg\n",
    "    return df"
   ]
  },
  {
   "cell_type": "code",
   "execution_count": null,
   "id": "6d8cdbf7",
   "metadata": {},
   "outputs": [],
   "source": [
    "df2 = df.copy()\n",
    "df = email_extractor(df, True)\n",
    "df"
   ]
  },
  {
   "cell_type": "markdown",
   "id": "1dce05e4",
   "metadata": {},
   "source": [
    "### Separating into Testing and Training Sets"
   ]
  },
  {
   "cell_type": "code",
   "execution_count": 6,
   "id": "31a26133",
   "metadata": {},
   "outputs": [],
   "source": [
    "# separating df into a training and testing dataset.\n",
    "# Knew it was 213000 because there are 300 emails per file & we cutoff at 70.\n",
    "training = df.iloc[:21300,]\n",
    "testing = df.iloc[21300:]"
   ]
  },
  {
   "cell_type": "markdown",
   "id": "22fb8da3",
   "metadata": {},
   "source": [
    "### Creating a feature matrix"
   ]
  },
  {
   "cell_type": "code",
   "execution_count": 7,
   "id": "43687f8d",
   "metadata": {
    "scrolled": true
   },
   "outputs": [],
   "source": [
    "# Using countvectorizer to create feature matrices for spam and ham\n",
    "# type will be dict\n",
    "spam_fm = cv().fit(training[training['type']=='spam']['content'].values)\n",
    "ham_fm = cv().fit(training[training['type']=='ham']['content'].values)"
   ]
  },
  {
   "cell_type": "markdown",
   "id": "6362bed8",
   "metadata": {},
   "source": [
    "### Computing the Prior Probabilities"
   ]
  },
  {
   "cell_type": "code",
   "execution_count": 8,
   "id": "6a57b6d5",
   "metadata": {
    "scrolled": true
   },
   "outputs": [
    {
     "name": "stdout",
     "output_type": "stream",
     "text": [
      "\n",
      "number of messages that are ham:  7523 \n",
      "number of messages that are spam: 13777\n",
      "---\n",
      "P(c = ham) = 0.3531924882629108 \n",
      "P(c = spam) = 0.6468075117370892\n"
     ]
    }
   ],
   "source": [
    "hamcount = training[(training['type'] == 'ham' )].count()[0]\n",
    "spamcount = training[(training['type'] == 'spam' )].count()[0]\n",
    "print(\"\\nnumber of messages that are ham: \", hamcount, \"\\nnumber of messages that are spam:\", spamcount)\n",
    "\n",
    "h_prior = 7523/21300\n",
    "s_prior = 13777/21300\n",
    "s_log_prior = np.log(s_prior)\n",
    "h_log_prior = np.log(h_prior)\n",
    "print(\"---\\nP(c = ham) =\", h_prior, \"\\nP(c = spam) =\", s_prior)"
   ]
  },
  {
   "cell_type": "markdown",
   "id": "731e633d",
   "metadata": {},
   "source": [
    "### Computing the likelihood of each word (with Laplace smoothing)"
   ]
  },
  {
   "cell_type": "code",
   "execution_count": 9,
   "id": "cf8b8ebe",
   "metadata": {},
   "outputs": [],
   "source": [
    "s_fm = pd.DataFrame(spam_fm.vocabulary_.copy().items(), columns=['word', 's-count'])\n",
    "h_fm = pd.DataFrame(ham_fm.vocabulary_.copy().items(), columns=['word', 'h-count'])\n",
    "fm = pd.merge(h_fm, s_fm, on = \"word\", how = \"inner\")\n",
    "\n",
    "# This is the alpha value we can adjust for laplace smoothing\n",
    "alpha = 1\n",
    "\n",
    "# each word has likelihood for spam and ham\n",
    "# likelihood = (number of times word in s/h + alpha) / (words in spam) + alpha(number of words)\n",
    "fm['s%'] = (fm['s-count'] + alpha)/(len(s_fm) + (alpha * len(fm)))\n",
    "fm['h%'] = (fm['h-count'] + alpha)/(len(h_fm) + (alpha * len(fm)))"
   ]
  },
  {
   "cell_type": "code",
   "execution_count": 10,
   "id": "e5ba7e07",
   "metadata": {},
   "outputs": [
    {
     "data": {
      "text/html": [
       "<div>\n",
       "<style scoped>\n",
       "    .dataframe tbody tr th:only-of-type {\n",
       "        vertical-align: middle;\n",
       "    }\n",
       "\n",
       "    .dataframe tbody tr th {\n",
       "        vertical-align: top;\n",
       "    }\n",
       "\n",
       "    .dataframe thead th {\n",
       "        text-align: right;\n",
       "    }\n",
       "</style>\n",
       "<table border=\"1\" class=\"dataframe\">\n",
       "  <thead>\n",
       "    <tr style=\"text-align: right;\">\n",
       "      <th></th>\n",
       "      <th>word</th>\n",
       "      <th>h-count</th>\n",
       "      <th>s-count</th>\n",
       "      <th>s%</th>\n",
       "      <th>h%</th>\n",
       "    </tr>\n",
       "  </thead>\n",
       "  <tbody>\n",
       "    <tr>\n",
       "      <th>0</th>\n",
       "      <td>mailing</td>\n",
       "      <td>49103</td>\n",
       "      <td>25697</td>\n",
       "      <td>0.498816</td>\n",
       "      <td>0.520467</td>\n",
       "    </tr>\n",
       "    <tr>\n",
       "      <th>1</th>\n",
       "      <td>list</td>\n",
       "      <td>47137</td>\n",
       "      <td>25144</td>\n",
       "      <td>0.488082</td>\n",
       "      <td>0.499629</td>\n",
       "    </tr>\n",
       "    <tr>\n",
       "      <th>2</th>\n",
       "      <td>weeks</td>\n",
       "      <td>80497</td>\n",
       "      <td>39624</td>\n",
       "      <td>0.769149</td>\n",
       "      <td>0.853221</td>\n",
       "    </tr>\n",
       "    <tr>\n",
       "      <th>3</th>\n",
       "      <td>ago</td>\n",
       "      <td>6346</td>\n",
       "      <td>1143</td>\n",
       "      <td>0.022206</td>\n",
       "      <td>0.067274</td>\n",
       "    </tr>\n",
       "    <tr>\n",
       "      <th>4</th>\n",
       "      <td>running</td>\n",
       "      <td>66506</td>\n",
       "      <td>32550</td>\n",
       "      <td>0.631837</td>\n",
       "      <td>0.704927</td>\n",
       "    </tr>\n",
       "    <tr>\n",
       "      <th>...</th>\n",
       "      <td>...</td>\n",
       "      <td>...</td>\n",
       "      <td>...</td>\n",
       "      <td>...</td>\n",
       "      <td>...</td>\n",
       "    </tr>\n",
       "    <tr>\n",
       "      <th>10601</th>\n",
       "      <td>employers</td>\n",
       "      <td>27986</td>\n",
       "      <td>15506</td>\n",
       "      <td>0.301002</td>\n",
       "      <td>0.296642</td>\n",
       "    </tr>\n",
       "    <tr>\n",
       "      <th>10602</th>\n",
       "      <td>downgrade</td>\n",
       "      <td>25746</td>\n",
       "      <td>14364</td>\n",
       "      <td>0.278835</td>\n",
       "      <td>0.272900</td>\n",
       "    </tr>\n",
       "    <tr>\n",
       "      <th>10603</th>\n",
       "      <td>barnett</td>\n",
       "      <td>12300</td>\n",
       "      <td>3459</td>\n",
       "      <td>0.067161</td>\n",
       "      <td>0.130382</td>\n",
       "    </tr>\n",
       "    <tr>\n",
       "      <th>10604</th>\n",
       "      <td>sore</td>\n",
       "      <td>70664</td>\n",
       "      <td>34531</td>\n",
       "      <td>0.670290</td>\n",
       "      <td>0.748998</td>\n",
       "    </tr>\n",
       "    <tr>\n",
       "      <th>10605</th>\n",
       "      <td>blurred</td>\n",
       "      <td>14104</td>\n",
       "      <td>6411</td>\n",
       "      <td>0.124461</td>\n",
       "      <td>0.149503</td>\n",
       "    </tr>\n",
       "  </tbody>\n",
       "</table>\n",
       "<p>10606 rows × 5 columns</p>\n",
       "</div>"
      ],
      "text/plain": [
       "            word  h-count  s-count        s%        h%\n",
       "0        mailing    49103    25697  0.498816  0.520467\n",
       "1           list    47137    25144  0.488082  0.499629\n",
       "2          weeks    80497    39624  0.769149  0.853221\n",
       "3            ago     6346     1143  0.022206  0.067274\n",
       "4        running    66506    32550  0.631837  0.704927\n",
       "...          ...      ...      ...       ...       ...\n",
       "10601  employers    27986    15506  0.301002  0.296642\n",
       "10602  downgrade    25746    14364  0.278835  0.272900\n",
       "10603    barnett    12300     3459  0.067161  0.130382\n",
       "10604       sore    70664    34531  0.670290  0.748998\n",
       "10605    blurred    14104     6411  0.124461  0.149503\n",
       "\n",
       "[10606 rows x 5 columns]"
      ]
     },
     "execution_count": 10,
     "metadata": {},
     "output_type": "execute_result"
    }
   ],
   "source": [
    "fm"
   ]
  },
  {
   "cell_type": "markdown",
   "id": "52fd74ba",
   "metadata": {},
   "source": [
    "### Classifying Emails in the testing set"
   ]
  },
  {
   "cell_type": "code",
   "execution_count": 11,
   "id": "9695f167",
   "metadata": {},
   "outputs": [],
   "source": [
    "from collections import Counter"
   ]
  },
  {
   "cell_type": "code",
   "execution_count": 12,
   "id": "8a3cbc95",
   "metadata": {},
   "outputs": [],
   "source": [
    "def NaiveBayes(email):\n",
    "    is_spam = s_log_prior\n",
    "    is_ham = h_log_prior\n",
    "    email = Counter(email.split())\n",
    "    for word in email:\n",
    "        if word in fm['word'].values:\n",
    "            is_spam += np.multiply(np.log((fm[fm['word'] == word]['s%'].values[0])), email.get(word))\n",
    "            is_ham += np.multiply(np.log((fm[fm['word'] == word]['h%'].values[0])), email.get(word))\n",
    "    is_spam = np.exp(is_spam)\n",
    "    is_ham = np.exp(is_ham)\n",
    "    if is_spam > is_ham:\n",
    "        return 'spam'\n",
    "    else:\n",
    "        return 'ham'"
   ]
  },
  {
   "cell_type": "code",
   "execution_count": 13,
   "id": "672fdab5",
   "metadata": {
    "scrolled": true
   },
   "outputs": [
    {
     "name": "stdout",
     "output_type": "stream",
     "text": [
      "ham\n",
      "spam\n"
     ]
    }
   ],
   "source": [
    "# Testing the function we've created using emails selected from the training set.\n",
    "\n",
    "print(NaiveBayes(df['content'][0]))\n",
    "print(NaiveBayes(df['content'][68]))"
   ]
  },
  {
   "cell_type": "code",
   "execution_count": 14,
   "id": "d0f42382",
   "metadata": {
    "scrolled": true
   },
   "outputs": [
    {
     "data": {
      "text/plain": [
       "600"
      ]
     },
     "execution_count": 14,
     "metadata": {},
     "output_type": "execute_result"
    }
   ],
   "source": [
    "# Proceeding to testing using the testing set.\n",
    "# We only use 600 emails because I do not currently have a faster method of doing this.\n",
    "test = testing.iloc[:600]\n",
    "test = test.copy()\n",
    "test['prediction'] = ''\n",
    "len(test)"
   ]
  },
  {
   "cell_type": "code",
   "execution_count": 15,
   "id": "b3735a07",
   "metadata": {
    "scrolled": false
   },
   "outputs": [
    {
     "data": {
      "text/html": [
       "<div>\n",
       "<style scoped>\n",
       "    .dataframe tbody tr th:only-of-type {\n",
       "        vertical-align: middle;\n",
       "    }\n",
       "\n",
       "    .dataframe tbody tr th {\n",
       "        vertical-align: top;\n",
       "    }\n",
       "\n",
       "    .dataframe thead th {\n",
       "        text-align: right;\n",
       "    }\n",
       "</style>\n",
       "<table border=\"1\" class=\"dataframe\">\n",
       "  <thead>\n",
       "    <tr style=\"text-align: right;\">\n",
       "      <th></th>\n",
       "      <th>content</th>\n",
       "      <th>type</th>\n",
       "      <th>location</th>\n",
       "      <th>prediction</th>\n",
       "    </tr>\n",
       "  </thead>\n",
       "  <tbody>\n",
       "    <tr>\n",
       "      <th>21300</th>\n",
       "      <td>hesitantly derive perverse satisfaction clodho...</td>\n",
       "      <td>spam</td>\n",
       "      <td>/data/071/000</td>\n",
       "      <td>spam</td>\n",
       "    </tr>\n",
       "    <tr>\n",
       "      <th>21301</th>\n",
       "      <td>things perform experiment display will remain ...</td>\n",
       "      <td>ham</td>\n",
       "      <td>/data/071/001</td>\n",
       "      <td>ham</td>\n",
       "    </tr>\n",
       "    <tr>\n",
       "      <th>21302</th>\n",
       "      <td>best offer month viggra ci ialis vaiium xa naa...</td>\n",
       "      <td>spam</td>\n",
       "      <td>/data/071/002</td>\n",
       "      <td>ham</td>\n",
       "    </tr>\n",
       "    <tr>\n",
       "      <th>21303</th>\n",
       "      <td>de ar wne cr doesnt matter ow real st mmed ia ...</td>\n",
       "      <td>spam</td>\n",
       "      <td>/data/071/003</td>\n",
       "      <td>ham</td>\n",
       "    </tr>\n",
       "    <tr>\n",
       "      <th>21304</th>\n",
       "      <td>special offer adobe video collection adobe pre...</td>\n",
       "      <td>spam</td>\n",
       "      <td>/data/071/004</td>\n",
       "      <td>ham</td>\n",
       "    </tr>\n",
       "    <tr>\n",
       "      <th>...</th>\n",
       "      <td>...</td>\n",
       "      <td>...</td>\n",
       "      <td>...</td>\n",
       "      <td>...</td>\n",
       "    </tr>\n",
       "    <tr>\n",
       "      <th>21895</th>\n",
       "      <td>html head meta httpequivcontenttype contenttex...</td>\n",
       "      <td>spam</td>\n",
       "      <td>/data/072/295</td>\n",
       "      <td>ham</td>\n",
       "    </tr>\n",
       "    <tr>\n",
       "      <th>21896</th>\n",
       "      <td>ra httpwwwbasioscuacom whistling voices releas...</td>\n",
       "      <td>spam</td>\n",
       "      <td>/data/072/296</td>\n",
       "      <td>ham</td>\n",
       "    </tr>\n",
       "    <tr>\n",
       "      <th>21897</th>\n",
       "      <td>bwsekfkb bpqqib httpiknowyoucoukdeai bldkb jio...</td>\n",
       "      <td>spam</td>\n",
       "      <td>/data/072/297</td>\n",
       "      <td>spam</td>\n",
       "    </tr>\n",
       "    <tr>\n",
       "      <th>21898</th>\n",
       "      <td>pm wrote question set mouse input device would...</td>\n",
       "      <td>ham</td>\n",
       "      <td>/data/072/298</td>\n",
       "      <td>ham</td>\n",
       "    </tr>\n",
       "    <tr>\n",
       "      <th>21899</th>\n",
       "      <td>questions dmdx capable loops block dmdx code t...</td>\n",
       "      <td>ham</td>\n",
       "      <td>/data/072/299</td>\n",
       "      <td>ham</td>\n",
       "    </tr>\n",
       "  </tbody>\n",
       "</table>\n",
       "<p>600 rows × 4 columns</p>\n",
       "</div>"
      ],
      "text/plain": [
       "                                                 content  type       location  \\\n",
       "21300  hesitantly derive perverse satisfaction clodho...  spam  /data/071/000   \n",
       "21301  things perform experiment display will remain ...   ham  /data/071/001   \n",
       "21302  best offer month viggra ci ialis vaiium xa naa...  spam  /data/071/002   \n",
       "21303  de ar wne cr doesnt matter ow real st mmed ia ...  spam  /data/071/003   \n",
       "21304  special offer adobe video collection adobe pre...  spam  /data/071/004   \n",
       "...                                                  ...   ...            ...   \n",
       "21895  html head meta httpequivcontenttype contenttex...  spam  /data/072/295   \n",
       "21896  ra httpwwwbasioscuacom whistling voices releas...  spam  /data/072/296   \n",
       "21897  bwsekfkb bpqqib httpiknowyoucoukdeai bldkb jio...  spam  /data/072/297   \n",
       "21898  pm wrote question set mouse input device would...   ham  /data/072/298   \n",
       "21899  questions dmdx capable loops block dmdx code t...   ham  /data/072/299   \n",
       "\n",
       "      prediction  \n",
       "21300       spam  \n",
       "21301        ham  \n",
       "21302        ham  \n",
       "21303        ham  \n",
       "21304        ham  \n",
       "...          ...  \n",
       "21895        ham  \n",
       "21896        ham  \n",
       "21897       spam  \n",
       "21898        ham  \n",
       "21899        ham  \n",
       "\n",
       "[600 rows x 4 columns]"
      ]
     },
     "execution_count": 15,
     "metadata": {},
     "output_type": "execute_result"
    }
   ],
   "source": [
    "test['prediction'] = test['content'].apply(NaiveBayes)\n",
    "\n",
    "test"
   ]
  },
  {
   "cell_type": "markdown",
   "id": "7bc0ef55",
   "metadata": {},
   "source": [
    "### Performance Evaluation"
   ]
  },
  {
   "cell_type": "code",
   "execution_count": 16,
   "id": "9cd692e6",
   "metadata": {},
   "outputs": [
    {
     "data": {
      "text/plain": [
       "'spam'"
      ]
     },
     "execution_count": 16,
     "metadata": {},
     "output_type": "execute_result"
    }
   ],
   "source": [
    "test['type'][21300]"
   ]
  },
  {
   "cell_type": "code",
   "execution_count": 17,
   "id": "b5339c73",
   "metadata": {
    "scrolled": true
   },
   "outputs": [
    {
     "name": "stdout",
     "output_type": "stream",
     "text": [
      "\n",
      "FP: 17 \n",
      "FN: 272 \n",
      "TP: 119 \n",
      "TN: 192 \n",
      "-----\n",
      "Acc: 0.5183333333333333 \n",
      "r:   0.30434782608695654 \n",
      "P:   0.875\n"
     ]
    }
   ],
   "source": [
    "def performance_eval(test):\n",
    "    FP = 0\n",
    "    FN = 0\n",
    "    TP = 0\n",
    "    TN = 0\n",
    "    for i in test.index:\n",
    "        # if the prediction does not match type\n",
    "        if test['type'][i] != test['prediction'][i]:\n",
    "            # misclassified spam email\n",
    "            if test['type'][i] == 'spam':\n",
    "                FN += 1\n",
    "            # misclassified ham email\n",
    "            else: \n",
    "                FP += 1\n",
    "        # if the prediction does match type\n",
    "        else:\n",
    "            # correctly classified spam\n",
    "            if test['type'][i] == 'spam':\n",
    "                TP += 1\n",
    "            # correctly classified ham\n",
    "            else: \n",
    "                TN += 1           \n",
    "    Acc = (TN + TP)/(TN + TP + FN + FP)\n",
    "    r = TP/(TP + FN)\n",
    "    P = TP/(TP + FP)\n",
    "    print(\"\\nFP:\", FP, \"\\nFN:\", FN, \"\\nTP:\", TP, \"\\nTN:\", TN, \"\\n-----\\nAcc:\", Acc, \"\\nr:  \", r, \"\\nP:  \", P)\n",
    "    \n",
    "    return [Acc, r, P]\n",
    "\n",
    "wst = performance_eval(test)"
   ]
  },
  {
   "cell_type": "markdown",
   "id": "32de99ff",
   "metadata": {},
   "source": [
    "# Results and Discussion\n",
    "This is just the experiments. See the pdf for the full discussion."
   ]
  },
  {
   "cell_type": "code",
   "execution_count": 18,
   "id": "7052a41a",
   "metadata": {},
   "outputs": [
    {
     "data": {
      "text/html": [
       "<div>\n",
       "<style scoped>\n",
       "    .dataframe tbody tr th:only-of-type {\n",
       "        vertical-align: middle;\n",
       "    }\n",
       "\n",
       "    .dataframe tbody tr th {\n",
       "        vertical-align: top;\n",
       "    }\n",
       "\n",
       "    .dataframe thead th {\n",
       "        text-align: right;\n",
       "    }\n",
       "</style>\n",
       "<table border=\"1\" class=\"dataframe\">\n",
       "  <thead>\n",
       "    <tr style=\"text-align: right;\">\n",
       "      <th></th>\n",
       "      <th>content</th>\n",
       "      <th>type</th>\n",
       "      <th>location</th>\n",
       "    </tr>\n",
       "  </thead>\n",
       "  <tbody>\n",
       "    <tr>\n",
       "      <th>0</th>\n",
       "      <td>the mailing list i queried about a few weeks a...</td>\n",
       "      <td>ham</td>\n",
       "      <td>/data/000/000</td>\n",
       "    </tr>\n",
       "    <tr>\n",
       "      <th>1</th>\n",
       "      <td>...</td>\n",
       "      <td>spam</td>\n",
       "      <td>/data/000/001</td>\n",
       "    </tr>\n",
       "    <tr>\n",
       "      <th>2</th>\n",
       "      <td>academic qualifications available from prestig...</td>\n",
       "      <td>spam</td>\n",
       "      <td>/data/000/002</td>\n",
       "    </tr>\n",
       "    <tr>\n",
       "      <th>3</th>\n",
       "      <td>greetings all  this is to verify your subscrip...</td>\n",
       "      <td>ham</td>\n",
       "      <td>/data/000/003</td>\n",
       "    </tr>\n",
       "    <tr>\n",
       "      <th>4</th>\n",
       "      <td>try chauncey may conferred the luscious not co...</td>\n",
       "      <td>spam</td>\n",
       "      <td>/data/000/004</td>\n",
       "    </tr>\n",
       "    <tr>\n",
       "      <th>...</th>\n",
       "      <td>...</td>\n",
       "      <td>...</td>\n",
       "      <td>...</td>\n",
       "    </tr>\n",
       "    <tr>\n",
       "      <th>37817</th>\n",
       "      <td>great news expec ted  infinex ventures inc inf...</td>\n",
       "      <td>spam</td>\n",
       "      <td>/data/126/017</td>\n",
       "    </tr>\n",
       "    <tr>\n",
       "      <th>37818</th>\n",
       "      <td>the oil sector is going crazy this is our week...</td>\n",
       "      <td>spam</td>\n",
       "      <td>/data/126/018</td>\n",
       "    </tr>\n",
       "    <tr>\n",
       "      <th>37819</th>\n",
       "      <td>httpvdtobjdocscaninfo  suffering from pain dep...</td>\n",
       "      <td>spam</td>\n",
       "      <td>/data/126/019</td>\n",
       "    </tr>\n",
       "    <tr>\n",
       "      <th>37820</th>\n",
       "      <td>u n i v e r s i t y  d i p l o m a s  do you w...</td>\n",
       "      <td>spam</td>\n",
       "      <td>/data/126/020</td>\n",
       "    </tr>\n",
       "    <tr>\n",
       "      <th>37821</th>\n",
       "      <td>but moat  coverall be cytochemistry be planelo...</td>\n",
       "      <td>spam</td>\n",
       "      <td>/data/126/021</td>\n",
       "    </tr>\n",
       "  </tbody>\n",
       "</table>\n",
       "<p>37822 rows × 3 columns</p>\n",
       "</div>"
      ],
      "text/plain": [
       "                                                 content  type       location\n",
       "0      the mailing list i queried about a few weeks a...   ham  /data/000/000\n",
       "1                                                    ...  spam  /data/000/001\n",
       "2      academic qualifications available from prestig...  spam  /data/000/002\n",
       "3      greetings all  this is to verify your subscrip...   ham  /data/000/003\n",
       "4      try chauncey may conferred the luscious not co...  spam  /data/000/004\n",
       "...                                                  ...   ...            ...\n",
       "37817  great news expec ted  infinex ventures inc inf...  spam  /data/126/017\n",
       "37818  the oil sector is going crazy this is our week...  spam  /data/126/018\n",
       "37819  httpvdtobjdocscaninfo  suffering from pain dep...  spam  /data/126/019\n",
       "37820  u n i v e r s i t y  d i p l o m a s  do you w...  spam  /data/126/020\n",
       "37821  but moat  coverall be cytochemistry be planelo...  spam  /data/126/021\n",
       "\n",
       "[37822 rows x 3 columns]"
      ]
     },
     "execution_count": 18,
     "metadata": {},
     "output_type": "execute_result"
    }
   ],
   "source": [
    "df_nostop = email_extractor(df2, False)\n",
    "df_nostop"
   ]
  },
  {
   "cell_type": "code",
   "execution_count": 19,
   "id": "5f21c5a3",
   "metadata": {},
   "outputs": [],
   "source": [
    "training = df_nostop.iloc[:21300,]\n",
    "testing = df_nostop.iloc[21300:]\n",
    "\n",
    "spam_fm = cv().fit(training[training['type']=='spam']['content'].values)\n",
    "ham_fm = cv().fit(training[training['type']=='ham']['content'].values)\n",
    "\n",
    "hamcount = training[(training['type'] == 'ham' )].count()[0]\n",
    "spamcount = training[(training['type'] == 'spam' )].count()[0]\n",
    "\n",
    "h_prior = 7523/21300\n",
    "s_prior = 13777/21300\n",
    "s_log_prior = np.log(s_prior)\n",
    "h_log_prior = np.log(h_prior)\n",
    "\n",
    "s_fm = pd.DataFrame(spam_fm.vocabulary_.copy().items(), columns=['word', 's-count'])\n",
    "h_fm = pd.DataFrame(ham_fm.vocabulary_.copy().items(), columns=['word', 'h-count'])\n",
    "fm = pd.merge(h_fm, s_fm, on = \"word\", how = \"inner\")\n",
    "\n",
    "alpha = 1\n",
    "\n",
    "fm['s%'] = (fm['s-count'] + alpha)/(len(s_fm) + (alpha * len(fm)))\n",
    "fm['h%'] = (fm['h-count'] + alpha)/(len(h_fm) + (alpha * len(fm)))\n",
    "\n",
    "test2 = testing.iloc[:600]\n",
    "test2 = test.copy()\n",
    "test2['prediction'] = ''"
   ]
  },
  {
   "cell_type": "code",
   "execution_count": 20,
   "id": "18ab7e31",
   "metadata": {},
   "outputs": [
    {
     "data": {
      "text/html": [
       "<div>\n",
       "<style scoped>\n",
       "    .dataframe tbody tr th:only-of-type {\n",
       "        vertical-align: middle;\n",
       "    }\n",
       "\n",
       "    .dataframe tbody tr th {\n",
       "        vertical-align: top;\n",
       "    }\n",
       "\n",
       "    .dataframe thead th {\n",
       "        text-align: right;\n",
       "    }\n",
       "</style>\n",
       "<table border=\"1\" class=\"dataframe\">\n",
       "  <thead>\n",
       "    <tr style=\"text-align: right;\">\n",
       "      <th></th>\n",
       "      <th>content</th>\n",
       "      <th>type</th>\n",
       "      <th>location</th>\n",
       "      <th>prediction</th>\n",
       "    </tr>\n",
       "  </thead>\n",
       "  <tbody>\n",
       "    <tr>\n",
       "      <th>21300</th>\n",
       "      <td>hesitantly derive perverse satisfaction clodho...</td>\n",
       "      <td>spam</td>\n",
       "      <td>/data/071/000</td>\n",
       "      <td>ham</td>\n",
       "    </tr>\n",
       "    <tr>\n",
       "      <th>21301</th>\n",
       "      <td>things perform experiment display will remain ...</td>\n",
       "      <td>ham</td>\n",
       "      <td>/data/071/001</td>\n",
       "      <td>ham</td>\n",
       "    </tr>\n",
       "    <tr>\n",
       "      <th>21302</th>\n",
       "      <td>best offer month viggra ci ialis vaiium xa naa...</td>\n",
       "      <td>spam</td>\n",
       "      <td>/data/071/002</td>\n",
       "      <td>ham</td>\n",
       "    </tr>\n",
       "    <tr>\n",
       "      <th>21303</th>\n",
       "      <td>de ar wne cr doesnt matter ow real st mmed ia ...</td>\n",
       "      <td>spam</td>\n",
       "      <td>/data/071/003</td>\n",
       "      <td>ham</td>\n",
       "    </tr>\n",
       "    <tr>\n",
       "      <th>21304</th>\n",
       "      <td>special offer adobe video collection adobe pre...</td>\n",
       "      <td>spam</td>\n",
       "      <td>/data/071/004</td>\n",
       "      <td>ham</td>\n",
       "    </tr>\n",
       "    <tr>\n",
       "      <th>...</th>\n",
       "      <td>...</td>\n",
       "      <td>...</td>\n",
       "      <td>...</td>\n",
       "      <td>...</td>\n",
       "    </tr>\n",
       "    <tr>\n",
       "      <th>21895</th>\n",
       "      <td>html head meta httpequivcontenttype contenttex...</td>\n",
       "      <td>spam</td>\n",
       "      <td>/data/072/295</td>\n",
       "      <td>ham</td>\n",
       "    </tr>\n",
       "    <tr>\n",
       "      <th>21896</th>\n",
       "      <td>ra httpwwwbasioscuacom whistling voices releas...</td>\n",
       "      <td>spam</td>\n",
       "      <td>/data/072/296</td>\n",
       "      <td>ham</td>\n",
       "    </tr>\n",
       "    <tr>\n",
       "      <th>21897</th>\n",
       "      <td>bwsekfkb bpqqib httpiknowyoucoukdeai bldkb jio...</td>\n",
       "      <td>spam</td>\n",
       "      <td>/data/072/297</td>\n",
       "      <td>spam</td>\n",
       "    </tr>\n",
       "    <tr>\n",
       "      <th>21898</th>\n",
       "      <td>pm wrote question set mouse input device would...</td>\n",
       "      <td>ham</td>\n",
       "      <td>/data/072/298</td>\n",
       "      <td>ham</td>\n",
       "    </tr>\n",
       "    <tr>\n",
       "      <th>21899</th>\n",
       "      <td>questions dmdx capable loops block dmdx code t...</td>\n",
       "      <td>ham</td>\n",
       "      <td>/data/072/299</td>\n",
       "      <td>ham</td>\n",
       "    </tr>\n",
       "  </tbody>\n",
       "</table>\n",
       "<p>600 rows × 4 columns</p>\n",
       "</div>"
      ],
      "text/plain": [
       "                                                 content  type       location  \\\n",
       "21300  hesitantly derive perverse satisfaction clodho...  spam  /data/071/000   \n",
       "21301  things perform experiment display will remain ...   ham  /data/071/001   \n",
       "21302  best offer month viggra ci ialis vaiium xa naa...  spam  /data/071/002   \n",
       "21303  de ar wne cr doesnt matter ow real st mmed ia ...  spam  /data/071/003   \n",
       "21304  special offer adobe video collection adobe pre...  spam  /data/071/004   \n",
       "...                                                  ...   ...            ...   \n",
       "21895  html head meta httpequivcontenttype contenttex...  spam  /data/072/295   \n",
       "21896  ra httpwwwbasioscuacom whistling voices releas...  spam  /data/072/296   \n",
       "21897  bwsekfkb bpqqib httpiknowyoucoukdeai bldkb jio...  spam  /data/072/297   \n",
       "21898  pm wrote question set mouse input device would...   ham  /data/072/298   \n",
       "21899  questions dmdx capable loops block dmdx code t...   ham  /data/072/299   \n",
       "\n",
       "      prediction  \n",
       "21300        ham  \n",
       "21301        ham  \n",
       "21302        ham  \n",
       "21303        ham  \n",
       "21304        ham  \n",
       "...          ...  \n",
       "21895        ham  \n",
       "21896        ham  \n",
       "21897       spam  \n",
       "21898        ham  \n",
       "21899        ham  \n",
       "\n",
       "[600 rows x 4 columns]"
      ]
     },
     "execution_count": 20,
     "metadata": {},
     "output_type": "execute_result"
    }
   ],
   "source": [
    "test2['prediction'] = test2['content'].apply(NaiveBayes)\n",
    "\n",
    "test2"
   ]
  },
  {
   "cell_type": "code",
   "execution_count": 21,
   "id": "88dd4938",
   "metadata": {},
   "outputs": [
    {
     "name": "stdout",
     "output_type": "stream",
     "text": [
      "\n",
      "FP: 17 \n",
      "FN: 274 \n",
      "TP: 117 \n",
      "TN: 192 \n",
      "-----\n",
      "Acc: 0.515 \n",
      "r:   0.29923273657289 \n",
      "P:   0.8731343283582089\n"
     ]
    }
   ],
   "source": [
    "wost = performance_eval(test2)"
   ]
  },
  {
   "cell_type": "code",
   "execution_count": 22,
   "id": "f47a4f2f",
   "metadata": {},
   "outputs": [
    {
     "data": {
      "text/html": [
       "<div>\n",
       "<style scoped>\n",
       "    .dataframe tbody tr th:only-of-type {\n",
       "        vertical-align: middle;\n",
       "    }\n",
       "\n",
       "    .dataframe tbody tr th {\n",
       "        vertical-align: top;\n",
       "    }\n",
       "\n",
       "    .dataframe thead th {\n",
       "        text-align: right;\n",
       "    }\n",
       "</style>\n",
       "<table border=\"1\" class=\"dataframe\">\n",
       "  <thead>\n",
       "    <tr style=\"text-align: right;\">\n",
       "      <th></th>\n",
       "      <th>Stopwords</th>\n",
       "      <th>Accuracy</th>\n",
       "      <th>Recall</th>\n",
       "      <th>Precision</th>\n",
       "    </tr>\n",
       "  </thead>\n",
       "  <tbody>\n",
       "    <tr>\n",
       "      <th>0</th>\n",
       "      <td>removed</td>\n",
       "      <td>0.518333</td>\n",
       "      <td>0.304348</td>\n",
       "      <td>0.875000</td>\n",
       "    </tr>\n",
       "    <tr>\n",
       "      <th>1</th>\n",
       "      <td>kept</td>\n",
       "      <td>0.515000</td>\n",
       "      <td>0.299233</td>\n",
       "      <td>0.873134</td>\n",
       "    </tr>\n",
       "  </tbody>\n",
       "</table>\n",
       "</div>"
      ],
      "text/plain": [
       "  Stopwords  Accuracy    Recall  Precision\n",
       "0   removed  0.518333  0.304348   0.875000\n",
       "1      kept  0.515000  0.299233   0.873134"
      ]
     },
     "execution_count": 22,
     "metadata": {},
     "output_type": "execute_result"
    }
   ],
   "source": [
    "val1 = ['removed', 'kept']\n",
    "val2 = [wst[0], wost[0]]\n",
    "val3 = [wst[1], wost[1]]\n",
    "val4 = [wst[2], wost[2]]\n",
    "\n",
    "results = pd.DataFrame(columns = ['Stopwords','Accuracy','Recall','Precision'])\n",
    "results['Stopwords'] = ['removed', 'kept']\n",
    "results['Accuracy'] = [wst[0], wost[0]]\n",
    "results['Recall'] = [wst[1], wost[1]]\n",
    "results['Precision'] = [wst[2], wost[2]]\n",
    "\n",
    "results"
   ]
  },
  {
   "cell_type": "markdown",
   "id": "a1aab5e3",
   "metadata": {},
   "source": [
    "### no. 2"
   ]
  },
  {
   "cell_type": "code",
   "execution_count": 23,
   "id": "c99dcb67",
   "metadata": {},
   "outputs": [],
   "source": [
    "training = df.iloc[:21300,]\n",
    "testing = df.iloc[21300:]\n",
    "spam_fm = cv().fit(training[training['type']=='spam']['content'].values)\n",
    "ham_fm = cv().fit(training[training['type']=='ham']['content'].values)\n",
    "hamcount = training[(training['type'] == 'ham' )].count()[0]\n",
    "spamcount = training[(training['type'] == 'spam' )].count()[0]\n",
    "h_prior = 7523/21300\n",
    "s_prior = 13777/21300\n",
    "s_log_prior = np.log(s_prior)\n",
    "h_log_prior = np.log(h_prior)\n",
    "\n",
    "s_fm = pd.DataFrame(spam_fm.vocabulary_.copy().items(), columns=['word', 's-count'])\n",
    "h_fm = pd.DataFrame(ham_fm.vocabulary_.copy().items(), columns=['word', 'h-count'])\n",
    "fm = pd.merge(h_fm, s_fm, on = \"word\", how = \"inner\")\n",
    "\n",
    "fm['total'] = fm['h-count'] + fm['s-count']\n",
    "fm = fm[fm['total'] > 100000]"
   ]
  },
  {
   "cell_type": "code",
   "execution_count": 24,
   "id": "b75c5183",
   "metadata": {},
   "outputs": [],
   "source": [
    "alpha = 1\n",
    "\n",
    "fm['s%'] = (fm['s-count'] + alpha)/(len(s_fm) + (alpha * len(fm)))\n",
    "fm['h%'] = (fm['h-count'] + alpha)/(len(h_fm) + (alpha * len(fm)))\n",
    "\n",
    "test3 = testing.iloc[:600]\n",
    "test3 = test.copy()\n",
    "test3['prediction'] = ''"
   ]
  },
  {
   "cell_type": "code",
   "execution_count": 25,
   "id": "7e933f33",
   "metadata": {},
   "outputs": [
    {
     "data": {
      "text/html": [
       "<div>\n",
       "<style scoped>\n",
       "    .dataframe tbody tr th:only-of-type {\n",
       "        vertical-align: middle;\n",
       "    }\n",
       "\n",
       "    .dataframe tbody tr th {\n",
       "        vertical-align: top;\n",
       "    }\n",
       "\n",
       "    .dataframe thead th {\n",
       "        text-align: right;\n",
       "    }\n",
       "</style>\n",
       "<table border=\"1\" class=\"dataframe\">\n",
       "  <thead>\n",
       "    <tr style=\"text-align: right;\">\n",
       "      <th></th>\n",
       "      <th>word</th>\n",
       "      <th>h-count</th>\n",
       "      <th>s-count</th>\n",
       "      <th>total</th>\n",
       "      <th>s%</th>\n",
       "      <th>h%</th>\n",
       "    </tr>\n",
       "  </thead>\n",
       "  <tbody>\n",
       "    <tr>\n",
       "      <th>2</th>\n",
       "      <td>weeks</td>\n",
       "      <td>80497</td>\n",
       "      <td>39624</td>\n",
       "      <td>120121</td>\n",
       "      <td>0.919502</td>\n",
       "      <td>0.936873</td>\n",
       "    </tr>\n",
       "    <tr>\n",
       "      <th>5</th>\n",
       "      <td>set</td>\n",
       "      <td>68473</td>\n",
       "      <td>33330</td>\n",
       "      <td>101803</td>\n",
       "      <td>0.773449</td>\n",
       "      <td>0.796932</td>\n",
       "    </tr>\n",
       "    <tr>\n",
       "      <th>7</th>\n",
       "      <td>server</td>\n",
       "      <td>68393</td>\n",
       "      <td>33295</td>\n",
       "      <td>101688</td>\n",
       "      <td>0.772637</td>\n",
       "      <td>0.796001</td>\n",
       "    </tr>\n",
       "    <tr>\n",
       "      <th>14</th>\n",
       "      <td>serious</td>\n",
       "      <td>68366</td>\n",
       "      <td>33283</td>\n",
       "      <td>101649</td>\n",
       "      <td>0.772358</td>\n",
       "      <td>0.795687</td>\n",
       "    </tr>\n",
       "    <tr>\n",
       "      <th>20</th>\n",
       "      <td>will</td>\n",
       "      <td>81039</td>\n",
       "      <td>39870</td>\n",
       "      <td>120909</td>\n",
       "      <td>0.925210</td>\n",
       "      <td>0.943181</td>\n",
       "    </tr>\n",
       "    <tr>\n",
       "      <th>...</th>\n",
       "      <td>...</td>\n",
       "      <td>...</td>\n",
       "      <td>...</td>\n",
       "      <td>...</td>\n",
       "      <td>...</td>\n",
       "      <td>...</td>\n",
       "    </tr>\n",
       "    <tr>\n",
       "      <th>10594</th>\n",
       "      <td>xga</td>\n",
       "      <td>82397</td>\n",
       "      <td>40279</td>\n",
       "      <td>122676</td>\n",
       "      <td>0.934701</td>\n",
       "      <td>0.958986</td>\n",
       "    </tr>\n",
       "    <tr>\n",
       "      <th>10596</th>\n",
       "      <td>toolbar</td>\n",
       "      <td>75631</td>\n",
       "      <td>37708</td>\n",
       "      <td>113339</td>\n",
       "      <td>0.875041</td>\n",
       "      <td>0.880240</td>\n",
       "    </tr>\n",
       "    <tr>\n",
       "      <th>10598</th>\n",
       "      <td>shabby</td>\n",
       "      <td>68683</td>\n",
       "      <td>33390</td>\n",
       "      <td>102073</td>\n",
       "      <td>0.774841</td>\n",
       "      <td>0.799376</td>\n",
       "    </tr>\n",
       "    <tr>\n",
       "      <th>10600</th>\n",
       "      <td>toto</td>\n",
       "      <td>75768</td>\n",
       "      <td>37762</td>\n",
       "      <td>113530</td>\n",
       "      <td>0.876294</td>\n",
       "      <td>0.881835</td>\n",
       "    </tr>\n",
       "    <tr>\n",
       "      <th>10604</th>\n",
       "      <td>sore</td>\n",
       "      <td>70664</td>\n",
       "      <td>34531</td>\n",
       "      <td>105195</td>\n",
       "      <td>0.801318</td>\n",
       "      <td>0.822432</td>\n",
       "    </tr>\n",
       "  </tbody>\n",
       "</table>\n",
       "<p>2182 rows × 6 columns</p>\n",
       "</div>"
      ],
      "text/plain": [
       "          word  h-count  s-count   total        s%        h%\n",
       "2        weeks    80497    39624  120121  0.919502  0.936873\n",
       "5          set    68473    33330  101803  0.773449  0.796932\n",
       "7       server    68393    33295  101688  0.772637  0.796001\n",
       "14     serious    68366    33283  101649  0.772358  0.795687\n",
       "20        will    81039    39870  120909  0.925210  0.943181\n",
       "...        ...      ...      ...     ...       ...       ...\n",
       "10594      xga    82397    40279  122676  0.934701  0.958986\n",
       "10596  toolbar    75631    37708  113339  0.875041  0.880240\n",
       "10598   shabby    68683    33390  102073  0.774841  0.799376\n",
       "10600     toto    75768    37762  113530  0.876294  0.881835\n",
       "10604     sore    70664    34531  105195  0.801318  0.822432\n",
       "\n",
       "[2182 rows x 6 columns]"
      ]
     },
     "execution_count": 25,
     "metadata": {},
     "output_type": "execute_result"
    }
   ],
   "source": [
    "fm"
   ]
  },
  {
   "cell_type": "code",
   "execution_count": 26,
   "id": "10dfde8b",
   "metadata": {},
   "outputs": [
    {
     "data": {
      "text/html": [
       "<div>\n",
       "<style scoped>\n",
       "    .dataframe tbody tr th:only-of-type {\n",
       "        vertical-align: middle;\n",
       "    }\n",
       "\n",
       "    .dataframe tbody tr th {\n",
       "        vertical-align: top;\n",
       "    }\n",
       "\n",
       "    .dataframe thead th {\n",
       "        text-align: right;\n",
       "    }\n",
       "</style>\n",
       "<table border=\"1\" class=\"dataframe\">\n",
       "  <thead>\n",
       "    <tr style=\"text-align: right;\">\n",
       "      <th></th>\n",
       "      <th>content</th>\n",
       "      <th>type</th>\n",
       "      <th>location</th>\n",
       "      <th>prediction</th>\n",
       "    </tr>\n",
       "  </thead>\n",
       "  <tbody>\n",
       "    <tr>\n",
       "      <th>21300</th>\n",
       "      <td>hesitantly derive perverse satisfaction clodho...</td>\n",
       "      <td>spam</td>\n",
       "      <td>/data/071/000</td>\n",
       "      <td>spam</td>\n",
       "    </tr>\n",
       "    <tr>\n",
       "      <th>21301</th>\n",
       "      <td>things perform experiment display will remain ...</td>\n",
       "      <td>ham</td>\n",
       "      <td>/data/071/001</td>\n",
       "      <td>ham</td>\n",
       "    </tr>\n",
       "    <tr>\n",
       "      <th>21302</th>\n",
       "      <td>best offer month viggra ci ialis vaiium xa naa...</td>\n",
       "      <td>spam</td>\n",
       "      <td>/data/071/002</td>\n",
       "      <td>spam</td>\n",
       "    </tr>\n",
       "    <tr>\n",
       "      <th>21303</th>\n",
       "      <td>de ar wne cr doesnt matter ow real st mmed ia ...</td>\n",
       "      <td>spam</td>\n",
       "      <td>/data/071/003</td>\n",
       "      <td>spam</td>\n",
       "    </tr>\n",
       "    <tr>\n",
       "      <th>21304</th>\n",
       "      <td>special offer adobe video collection adobe pre...</td>\n",
       "      <td>spam</td>\n",
       "      <td>/data/071/004</td>\n",
       "      <td>spam</td>\n",
       "    </tr>\n",
       "    <tr>\n",
       "      <th>...</th>\n",
       "      <td>...</td>\n",
       "      <td>...</td>\n",
       "      <td>...</td>\n",
       "      <td>...</td>\n",
       "    </tr>\n",
       "    <tr>\n",
       "      <th>21895</th>\n",
       "      <td>html head meta httpequivcontenttype contenttex...</td>\n",
       "      <td>spam</td>\n",
       "      <td>/data/072/295</td>\n",
       "      <td>spam</td>\n",
       "    </tr>\n",
       "    <tr>\n",
       "      <th>21896</th>\n",
       "      <td>ra httpwwwbasioscuacom whistling voices releas...</td>\n",
       "      <td>spam</td>\n",
       "      <td>/data/072/296</td>\n",
       "      <td>spam</td>\n",
       "    </tr>\n",
       "    <tr>\n",
       "      <th>21897</th>\n",
       "      <td>bwsekfkb bpqqib httpiknowyoucoukdeai bldkb jio...</td>\n",
       "      <td>spam</td>\n",
       "      <td>/data/072/297</td>\n",
       "      <td>spam</td>\n",
       "    </tr>\n",
       "    <tr>\n",
       "      <th>21898</th>\n",
       "      <td>pm wrote question set mouse input device would...</td>\n",
       "      <td>ham</td>\n",
       "      <td>/data/072/298</td>\n",
       "      <td>spam</td>\n",
       "    </tr>\n",
       "    <tr>\n",
       "      <th>21899</th>\n",
       "      <td>questions dmdx capable loops block dmdx code t...</td>\n",
       "      <td>ham</td>\n",
       "      <td>/data/072/299</td>\n",
       "      <td>spam</td>\n",
       "    </tr>\n",
       "  </tbody>\n",
       "</table>\n",
       "<p>600 rows × 4 columns</p>\n",
       "</div>"
      ],
      "text/plain": [
       "                                                 content  type       location  \\\n",
       "21300  hesitantly derive perverse satisfaction clodho...  spam  /data/071/000   \n",
       "21301  things perform experiment display will remain ...   ham  /data/071/001   \n",
       "21302  best offer month viggra ci ialis vaiium xa naa...  spam  /data/071/002   \n",
       "21303  de ar wne cr doesnt matter ow real st mmed ia ...  spam  /data/071/003   \n",
       "21304  special offer adobe video collection adobe pre...  spam  /data/071/004   \n",
       "...                                                  ...   ...            ...   \n",
       "21895  html head meta httpequivcontenttype contenttex...  spam  /data/072/295   \n",
       "21896  ra httpwwwbasioscuacom whistling voices releas...  spam  /data/072/296   \n",
       "21897  bwsekfkb bpqqib httpiknowyoucoukdeai bldkb jio...  spam  /data/072/297   \n",
       "21898  pm wrote question set mouse input device would...   ham  /data/072/298   \n",
       "21899  questions dmdx capable loops block dmdx code t...   ham  /data/072/299   \n",
       "\n",
       "      prediction  \n",
       "21300       spam  \n",
       "21301        ham  \n",
       "21302       spam  \n",
       "21303       spam  \n",
       "21304       spam  \n",
       "...          ...  \n",
       "21895       spam  \n",
       "21896       spam  \n",
       "21897       spam  \n",
       "21898       spam  \n",
       "21899       spam  \n",
       "\n",
       "[600 rows x 4 columns]"
      ]
     },
     "execution_count": 26,
     "metadata": {},
     "output_type": "execute_result"
    }
   ],
   "source": [
    "test3['prediction'] = test3['content'].apply(NaiveBayes)\n",
    "\n",
    "test3"
   ]
  },
  {
   "cell_type": "code",
   "execution_count": 27,
   "id": "10255be4",
   "metadata": {},
   "outputs": [
    {
     "name": "stdout",
     "output_type": "stream",
     "text": [
      "\n",
      "FP: 194 \n",
      "FN: 25 \n",
      "TP: 366 \n",
      "TN: 15 \n",
      "-----\n",
      "Acc: 0.635 \n",
      "r:   0.9360613810741688 \n",
      "P:   0.6535714285714286\n"
     ]
    },
    {
     "data": {
      "text/plain": [
       "[0.635, 0.9360613810741688, 0.6535714285714286]"
      ]
     },
     "execution_count": 27,
     "metadata": {},
     "output_type": "execute_result"
    }
   ],
   "source": [
    "performance_eval(test3)"
   ]
  },
  {
   "cell_type": "markdown",
   "id": "77b4e788",
   "metadata": {},
   "source": [
    "### no. 3"
   ]
  },
  {
   "cell_type": "code",
   "execution_count": 28,
   "id": "5fefada5",
   "metadata": {},
   "outputs": [
    {
     "name": "stdout",
     "output_type": "stream",
     "text": [
      "\n",
      "number of messages that are ham:  7523 \n",
      "number of messages that are spam: 13777\n"
     ]
    }
   ],
   "source": [
    "training = df.iloc[:21300,]\n",
    "testing = df.iloc[21300:]\n",
    "\n",
    "spam_fm = cv().fit(training[training['type']=='spam']['content'].values)\n",
    "ham_fm = cv().fit(training[training['type']=='ham']['content'].values)\n",
    "\n",
    "hamcount = training[(training['type'] == 'ham' )].count()[0]\n",
    "spamcount = training[(training['type'] == 'spam' )].count()[0]\n",
    "print(\"\\nnumber of messages that are ham: \", hamcount, \"\\nnumber of messages that are spam:\", spamcount)\n",
    "\n",
    "h_prior = 7523/21300\n",
    "s_prior = 13777/21300\n",
    "s_log_prior = np.log(s_prior)\n",
    "h_log_prior = np.log(h_prior)\n",
    "\n",
    "s_fm = pd.DataFrame(spam_fm.vocabulary_.copy().items(), columns=['word', 's-count'])\n",
    "h_fm = pd.DataFrame(ham_fm.vocabulary_.copy().items(), columns=['word', 'h-count'])\n",
    "fm = pd.merge(h_fm, s_fm, on = \"word\", how = \"inner\")"
   ]
  },
  {
   "cell_type": "code",
   "execution_count": 29,
   "id": "47c11288",
   "metadata": {},
   "outputs": [
    {
     "name": "stdout",
     "output_type": "stream",
     "text": [
      "alpha: 2.0\n",
      "\n",
      "FP: 5 \n",
      "FN: 280 \n",
      "TP: 111 \n",
      "TN: 204 \n",
      "-----\n",
      "Acc: 0.525 \n",
      "r:   0.28388746803069054 \n",
      "P:   0.9568965517241379\n"
     ]
    },
    {
     "data": {
      "text/plain": [
       "[0.525, 0.28388746803069054, 0.9568965517241379]"
      ]
     },
     "execution_count": 29,
     "metadata": {},
     "output_type": "execute_result"
    }
   ],
   "source": [
    "alpha = 2\n",
    "\n",
    "fm = pd.merge(h_fm, s_fm, on = \"word\", how = \"inner\")\n",
    "fm['s%'] = (fm['s-count'] + alpha)/(len(s_fm) + (alpha * len(fm)))\n",
    "fm['h%'] = (fm['h-count'] + alpha)/(len(h_fm) + (alpha * len(fm)))\n",
    "\n",
    "test = testing.iloc[:600]\n",
    "test = test.copy()\n",
    "test['prediction'] = ''\n",
    "test['prediction'] = test['content'].apply(NaiveBayes)\n",
    "\n",
    "print('alpha: 2.0')\n",
    "performance_eval(test)"
   ]
  },
  {
   "cell_type": "code",
   "execution_count": 30,
   "id": "fc50ce26",
   "metadata": {},
   "outputs": [
    {
     "name": "stdout",
     "output_type": "stream",
     "text": [
      "alpha: 0.5\n",
      "\n",
      "FP: 66 \n",
      "FN: 225 \n",
      "TP: 166 \n",
      "TN: 143 \n",
      "-----\n",
      "Acc: 0.515 \n",
      "r:   0.42455242966751916 \n",
      "P:   0.7155172413793104\n"
     ]
    },
    {
     "data": {
      "text/plain": [
       "[0.515, 0.42455242966751916, 0.7155172413793104]"
      ]
     },
     "execution_count": 30,
     "metadata": {},
     "output_type": "execute_result"
    }
   ],
   "source": [
    "alpha = 0.5\n",
    "\n",
    "fm = pd.merge(h_fm, s_fm, on = \"word\", how = \"inner\")\n",
    "fm['s%'] = (fm['s-count'] + alpha)/(len(s_fm) + (alpha * len(fm)))\n",
    "fm['h%'] = (fm['h-count'] + alpha)/(len(h_fm) + (alpha * len(fm)))\n",
    "\n",
    "test = testing.iloc[:600]\n",
    "test = test.copy()\n",
    "test['prediction'] = ''\n",
    "test['prediction'] = test['content'].apply(NaiveBayes)\n",
    "\n",
    "print('alpha: 0.5')\n",
    "performance_eval(test)"
   ]
  },
  {
   "cell_type": "code",
   "execution_count": 31,
   "id": "cd5ff454",
   "metadata": {},
   "outputs": [
    {
     "name": "stdout",
     "output_type": "stream",
     "text": [
      "alpha: 0.1\n",
      "\n",
      "FP: 157 \n",
      "FN: 145 \n",
      "TP: 246 \n",
      "TN: 52 \n",
      "-----\n",
      "Acc: 0.49666666666666665 \n",
      "r:   0.629156010230179 \n",
      "P:   0.6104218362282878\n"
     ]
    },
    {
     "data": {
      "text/plain": [
       "[0.49666666666666665, 0.629156010230179, 0.6104218362282878]"
      ]
     },
     "execution_count": 31,
     "metadata": {},
     "output_type": "execute_result"
    }
   ],
   "source": [
    "alpha = 0.1\n",
    "\n",
    "fm = pd.merge(h_fm, s_fm, on = \"word\", how = \"inner\")\n",
    "fm['s%'] = (fm['s-count'] + alpha)/(len(s_fm) + (alpha * len(fm)))\n",
    "fm['h%'] = (fm['h-count'] + alpha)/(len(h_fm) + (alpha * len(fm)))\n",
    "\n",
    "test = testing.iloc[:600]\n",
    "test = test.copy()\n",
    "test['prediction'] = ''\n",
    "test['prediction'] = test['content'].apply(NaiveBayes)\n",
    "\n",
    "print('alpha: 0.1')\n",
    "performance_eval(test)"
   ]
  },
  {
   "cell_type": "code",
   "execution_count": 32,
   "id": "75d04c19",
   "metadata": {},
   "outputs": [
    {
     "name": "stdout",
     "output_type": "stream",
     "text": [
      "alpha: 0.005\n",
      "\n",
      "FP: 165 \n",
      "FN: 120 \n",
      "TP: 271 \n",
      "TN: 44 \n",
      "-----\n",
      "Acc: 0.525 \n",
      "r:   0.6930946291560103 \n",
      "P:   0.6215596330275229\n"
     ]
    },
    {
     "data": {
      "text/plain": [
       "[0.525, 0.6930946291560103, 0.6215596330275229]"
      ]
     },
     "execution_count": 32,
     "metadata": {},
     "output_type": "execute_result"
    }
   ],
   "source": [
    "alpha = 0.005\n",
    "\n",
    "fm = pd.merge(h_fm, s_fm, on = \"word\", how = \"inner\")\n",
    "fm['s%'] = (fm['s-count'] + alpha)/(len(s_fm) + (alpha * len(fm)))\n",
    "fm['h%'] = (fm['h-count'] + alpha)/(len(h_fm) + (alpha * len(fm)))\n",
    "\n",
    "test = testing.iloc[:600]\n",
    "test = test.copy()\n",
    "test['prediction'] = ''\n",
    "test['prediction'] = test['content'].apply(NaiveBayes)\n",
    "\n",
    "print('alpha: 0.005')\n",
    "performance_eval(test)"
   ]
  }
 ],
 "metadata": {
  "kernelspec": {
   "display_name": "Python 3 (ipykernel)",
   "language": "python",
   "name": "python3"
  },
  "language_info": {
   "codemirror_mode": {
    "name": "ipython",
    "version": 3
   },
   "file_extension": ".py",
   "mimetype": "text/x-python",
   "name": "python",
   "nbconvert_exporter": "python",
   "pygments_lexer": "ipython3",
   "version": "3.9.12"
  }
 },
 "nbformat": 4,
 "nbformat_minor": 5
}
